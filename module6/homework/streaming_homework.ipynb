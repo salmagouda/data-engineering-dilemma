{
 "cells": [
  {
   "cell_type": "code",
   "execution_count": 23,
   "id": "abbf9300",
   "metadata": {},
   "outputs": [],
   "source": [
    "import pandas as pd\n",
    "\n",
    "from pyspark.sql import SparkSession\n",
    "from pyspark.sql.functions import current_timestamp, window, col\n",
    "from pyspark.sql.types import IntegerType\n"
   ]
  },
  {
   "cell_type": "code",
   "execution_count": 24,
   "id": "d730b60e",
   "metadata": {},
   "outputs": [
    {
     "name": "stdout",
     "output_type": "stream",
     "text": [
      "Connected to Kafka server successfully\n"
     ]
    }
   ],
   "source": [
    "import json\n",
    "import time \n",
    "\n",
    "from kafka import KafkaProducer\n",
    "\n",
    "def json_serializer(data):\n",
    "    return json.dumps(data).encode('utf-8')\n",
    "\n",
    "server = 'localhost:9092'\n",
    "\n",
    "producer = KafkaProducer(\n",
    "    bootstrap_servers=[server],\n",
    "    value_serializer=json_serializer\n",
    ")\n",
    "\n",
    "# Check if the producer is able to connect to the Kafka server\n",
    "try:\n",
    "    metadata = producer.metrics()\n",
    "    print(\"Connected to Kafka server successfully\")\n",
    "except Exception as e:\n",
    "    print(\"Failed to connect to Kafka server:\", str(e))"
   ]
  },
  {
   "cell_type": "code",
   "execution_count": 25,
   "id": "a54fcfdb",
   "metadata": {},
   "outputs": [
    {
     "name": "stdout",
     "output_type": "stream",
     "text": [
      "Sent: {'number': 0}\n",
      "Sent: {'number': 1}\n",
      "Sent: {'number': 2}\n",
      "Sent: {'number': 3}\n",
      "Sent: {'number': 4}\n",
      "Sent: {'number': 5}\n",
      "Sent: {'number': 6}\n",
      "Sent: {'number': 7}\n",
      "Sent: {'number': 8}\n",
      "Sent: {'number': 9}\n",
      "took 0.00 seconds\n",
      "took 0.51 seconds\n",
      "took 0.51 seconds\n"
     ]
    }
   ],
   "source": [
    "t0 = time.time()\n",
    "\n",
    "topic_name = 'test-topic'\n",
    "\n",
    "t1 = time.time()\n",
    "for i in range(10):\n",
    "    message = {'number': i}\n",
    "    producer.send(topic_name, value=message)\n",
    "    print(f\"Sent: {message}\")\n",
    "    time.sleep(0.05)\n",
    "print(f'took {(t1 - t0):.2f} seconds')\n",
    "\n",
    "t1 = time.time()\n",
    "producer.flush()\n",
    "print(f'took {(t1 - t0):.2f} seconds')\n",
    "\n",
    "t1 = time.time()\n",
    "print(f'took {(t1 - t0):.2f} seconds')"
   ]
  },
  {
   "cell_type": "code",
   "execution_count": 26,
   "id": "66e12e69",
   "metadata": {},
   "outputs": [],
   "source": [
    "columns = [\n",
    "    'lpep_pickup_datetime',\n",
    "    'lpep_dropoff_datetime',\n",
    "    'PULocationID',\n",
    "    'DOLocationID',\n",
    "    'passenger_count',\n",
    "    'trip_distance',\n",
    "    'tip_amount'\n",
    "]"
   ]
  },
  {
   "cell_type": "code",
   "execution_count": 27,
   "id": "e394d90d",
   "metadata": {},
   "outputs": [],
   "source": [
    "df_green = pd.read_csv(\n",
    "    \"green_tripdata_2019-10.csv.gz\",\n",
    "    encoding='utf-8',\n",
    "    compression=\"gzip\",\n",
    "    usecols=columns\n",
    ")"
   ]
  },
  {
   "cell_type": "code",
   "execution_count": 28,
   "id": "a6f3e161",
   "metadata": {},
   "outputs": [
    {
     "data": {
      "text/html": [
       "<div>\n",
       "<style scoped>\n",
       "    .dataframe tbody tr th:only-of-type {\n",
       "        vertical-align: middle;\n",
       "    }\n",
       "\n",
       "    .dataframe tbody tr th {\n",
       "        vertical-align: top;\n",
       "    }\n",
       "\n",
       "    .dataframe thead th {\n",
       "        text-align: right;\n",
       "    }\n",
       "</style>\n",
       "<table border=\"1\" class=\"dataframe\">\n",
       "  <thead>\n",
       "    <tr style=\"text-align: right;\">\n",
       "      <th></th>\n",
       "      <th>lpep_pickup_datetime</th>\n",
       "      <th>lpep_dropoff_datetime</th>\n",
       "      <th>PULocationID</th>\n",
       "      <th>DOLocationID</th>\n",
       "      <th>passenger_count</th>\n",
       "      <th>trip_distance</th>\n",
       "      <th>tip_amount</th>\n",
       "    </tr>\n",
       "  </thead>\n",
       "  <tbody>\n",
       "    <tr>\n",
       "      <th>0</th>\n",
       "      <td>2019-10-01 00:26:02</td>\n",
       "      <td>2019-10-01 00:39:58</td>\n",
       "      <td>112</td>\n",
       "      <td>196</td>\n",
       "      <td>1.0</td>\n",
       "      <td>5.88</td>\n",
       "      <td>0.00</td>\n",
       "    </tr>\n",
       "    <tr>\n",
       "      <th>1</th>\n",
       "      <td>2019-10-01 00:18:11</td>\n",
       "      <td>2019-10-01 00:22:38</td>\n",
       "      <td>43</td>\n",
       "      <td>263</td>\n",
       "      <td>1.0</td>\n",
       "      <td>0.80</td>\n",
       "      <td>0.00</td>\n",
       "    </tr>\n",
       "    <tr>\n",
       "      <th>2</th>\n",
       "      <td>2019-10-01 00:09:31</td>\n",
       "      <td>2019-10-01 00:24:47</td>\n",
       "      <td>255</td>\n",
       "      <td>228</td>\n",
       "      <td>2.0</td>\n",
       "      <td>7.50</td>\n",
       "      <td>0.00</td>\n",
       "    </tr>\n",
       "    <tr>\n",
       "      <th>3</th>\n",
       "      <td>2019-10-01 00:37:40</td>\n",
       "      <td>2019-10-01 00:41:49</td>\n",
       "      <td>181</td>\n",
       "      <td>181</td>\n",
       "      <td>1.0</td>\n",
       "      <td>0.90</td>\n",
       "      <td>0.00</td>\n",
       "    </tr>\n",
       "    <tr>\n",
       "      <th>4</th>\n",
       "      <td>2019-10-01 00:08:13</td>\n",
       "      <td>2019-10-01 00:17:56</td>\n",
       "      <td>97</td>\n",
       "      <td>188</td>\n",
       "      <td>1.0</td>\n",
       "      <td>2.52</td>\n",
       "      <td>2.26</td>\n",
       "    </tr>\n",
       "    <tr>\n",
       "      <th>...</th>\n",
       "      <td>...</td>\n",
       "      <td>...</td>\n",
       "      <td>...</td>\n",
       "      <td>...</td>\n",
       "      <td>...</td>\n",
       "      <td>...</td>\n",
       "      <td>...</td>\n",
       "    </tr>\n",
       "    <tr>\n",
       "      <th>476381</th>\n",
       "      <td>2019-10-31 23:30:00</td>\n",
       "      <td>2019-11-01 00:00:00</td>\n",
       "      <td>65</td>\n",
       "      <td>102</td>\n",
       "      <td>NaN</td>\n",
       "      <td>7.04</td>\n",
       "      <td>0.00</td>\n",
       "    </tr>\n",
       "    <tr>\n",
       "      <th>476382</th>\n",
       "      <td>2019-10-31 23:03:00</td>\n",
       "      <td>2019-10-31 23:24:00</td>\n",
       "      <td>129</td>\n",
       "      <td>136</td>\n",
       "      <td>NaN</td>\n",
       "      <td>0.00</td>\n",
       "      <td>0.00</td>\n",
       "    </tr>\n",
       "    <tr>\n",
       "      <th>476383</th>\n",
       "      <td>2019-10-31 23:02:00</td>\n",
       "      <td>2019-10-31 23:23:00</td>\n",
       "      <td>61</td>\n",
       "      <td>222</td>\n",
       "      <td>NaN</td>\n",
       "      <td>3.90</td>\n",
       "      <td>0.00</td>\n",
       "    </tr>\n",
       "    <tr>\n",
       "      <th>476384</th>\n",
       "      <td>2019-10-31 23:42:00</td>\n",
       "      <td>2019-10-31 23:56:00</td>\n",
       "      <td>76</td>\n",
       "      <td>39</td>\n",
       "      <td>NaN</td>\n",
       "      <td>3.08</td>\n",
       "      <td>0.00</td>\n",
       "    </tr>\n",
       "    <tr>\n",
       "      <th>476385</th>\n",
       "      <td>2019-10-31 23:23:00</td>\n",
       "      <td>2019-10-31 23:56:00</td>\n",
       "      <td>56</td>\n",
       "      <td>215</td>\n",
       "      <td>NaN</td>\n",
       "      <td>6.84</td>\n",
       "      <td>0.00</td>\n",
       "    </tr>\n",
       "  </tbody>\n",
       "</table>\n",
       "<p>476386 rows × 7 columns</p>\n",
       "</div>"
      ],
      "text/plain": [
       "       lpep_pickup_datetime lpep_dropoff_datetime  PULocationID  DOLocationID   \n",
       "0       2019-10-01 00:26:02   2019-10-01 00:39:58           112           196  \\\n",
       "1       2019-10-01 00:18:11   2019-10-01 00:22:38            43           263   \n",
       "2       2019-10-01 00:09:31   2019-10-01 00:24:47           255           228   \n",
       "3       2019-10-01 00:37:40   2019-10-01 00:41:49           181           181   \n",
       "4       2019-10-01 00:08:13   2019-10-01 00:17:56            97           188   \n",
       "...                     ...                   ...           ...           ...   \n",
       "476381  2019-10-31 23:30:00   2019-11-01 00:00:00            65           102   \n",
       "476382  2019-10-31 23:03:00   2019-10-31 23:24:00           129           136   \n",
       "476383  2019-10-31 23:02:00   2019-10-31 23:23:00            61           222   \n",
       "476384  2019-10-31 23:42:00   2019-10-31 23:56:00            76            39   \n",
       "476385  2019-10-31 23:23:00   2019-10-31 23:56:00            56           215   \n",
       "\n",
       "        passenger_count  trip_distance  tip_amount  \n",
       "0                   1.0           5.88        0.00  \n",
       "1                   1.0           0.80        0.00  \n",
       "2                   2.0           7.50        0.00  \n",
       "3                   1.0           0.90        0.00  \n",
       "4                   1.0           2.52        2.26  \n",
       "...                 ...            ...         ...  \n",
       "476381              NaN           7.04        0.00  \n",
       "476382              NaN           0.00        0.00  \n",
       "476383              NaN           3.90        0.00  \n",
       "476384              NaN           3.08        0.00  \n",
       "476385              NaN           6.84        0.00  \n",
       "\n",
       "[476386 rows x 7 columns]"
      ]
     },
     "execution_count": 28,
     "metadata": {},
     "output_type": "execute_result"
    }
   ],
   "source": [
    "df_green"
   ]
  },
  {
   "cell_type": "code",
   "execution_count": 29,
   "id": "9f894ba6",
   "metadata": {},
   "outputs": [
    {
     "name": "stdout",
     "output_type": "stream",
     "text": [
      "Row(lpep_pickup_datetime='2019-10-01 00:26:02', lpep_dropoff_datetime='2019-10-01 00:39:58', PULocationID=112, DOLocationID=196, passenger_count=1.0, trip_distance=5.88, tip_amount=0.0)\n",
      "Row(lpep_pickup_datetime='2019-10-01 00:00:48', lpep_dropoff_datetime='2019-10-01 00:05:42', PULocationID=210, DOLocationID=108, passenger_count=2.0, trip_distance=1.03, tip_amount=2.19)\n",
      "Row(lpep_pickup_datetime='2019-10-01 12:02:24', lpep_dropoff_datetime='2019-10-01 12:08:23', PULocationID=75, DOLocationID=74, passenger_count=1.0, trip_distance=1.56, tip_amount=2.19)\n",
      "Row(lpep_pickup_datetime='2019-10-01 14:07:00', lpep_dropoff_datetime='2019-10-01 14:11:27', PULocationID=74, DOLocationID=74, passenger_count=1.0, trip_distance=0.58, tip_amount=0.0)\n",
      "Row(lpep_pickup_datetime='2019-10-01 17:57:46', lpep_dropoff_datetime='2019-10-01 18:07:38', PULocationID=65, DOLocationID=49, passenger_count=1.0, trip_distance=1.26, tip_amount=2.94)\n",
      "Row(lpep_pickup_datetime='2019-10-01 20:04:27', lpep_dropoff_datetime='2019-10-01 20:09:09', PULocationID=42, DOLocationID=42, passenger_count=1.0, trip_distance=0.51, tip_amount=0.0)\n",
      "Row(lpep_pickup_datetime='2019-10-02 00:09:36', lpep_dropoff_datetime='2019-10-02 00:17:43', PULocationID=112, DOLocationID=256, passenger_count=1.0, trip_distance=1.95, tip_amount=0.0)\n",
      "Row(lpep_pickup_datetime='2019-10-02 10:45:07', lpep_dropoff_datetime='2019-10-02 10:51:49', PULocationID=75, DOLocationID=41, passenger_count=1.0, trip_distance=1.13, tip_amount=1.46)\n",
      "Row(lpep_pickup_datetime='2019-10-02 12:26:19', lpep_dropoff_datetime='2019-10-02 12:43:37', PULocationID=244, DOLocationID=262, passenger_count=1.0, trip_distance=6.69, tip_amount=5.0)\n",
      "Row(lpep_pickup_datetime='2019-10-02 15:24:55', lpep_dropoff_datetime='2019-10-02 15:41:12', PULocationID=130, DOLocationID=219, passenger_count=1.0, trip_distance=4.47, tip_amount=0.0)\n",
      "Row(lpep_pickup_datetime='2019-10-02 17:51:20', lpep_dropoff_datetime='2019-10-02 17:59:45', PULocationID=65, DOLocationID=49, passenger_count=1.0, trip_distance=1.05, tip_amount=2.2)\n",
      "Row(lpep_pickup_datetime='2019-10-02 19:10:34', lpep_dropoff_datetime='2019-10-02 19:45:34', PULocationID=49, DOLocationID=246, passenger_count=1.0, trip_distance=6.48, tip_amount=6.21)\n",
      "Row(lpep_pickup_datetime='2019-10-02 20:59:38', lpep_dropoff_datetime='2019-10-02 21:14:03', PULocationID=181, DOLocationID=17, passenger_count=1.0, trip_distance=3.03, tip_amount=2.76)\n",
      "Row(lpep_pickup_datetime='2019-10-03 08:29:54', lpep_dropoff_datetime='2019-10-03 09:02:36', PULocationID=236, DOLocationID=68, passenger_count=1.0, trip_distance=4.06, tip_amount=5.01)\n",
      "Row(lpep_pickup_datetime='2019-10-03 10:07:47', lpep_dropoff_datetime='2019-10-03 10:11:09', PULocationID=75, DOLocationID=75, passenger_count=1.0, trip_distance=0.35, tip_amount=0.0)\n",
      "Row(lpep_pickup_datetime='2019-10-03 12:13:54', lpep_dropoff_datetime='2019-10-03 12:31:27', PULocationID=47, DOLocationID=159, passenger_count=1.0, trip_distance=3.07, tip_amount=0.0)\n",
      "Row(lpep_pickup_datetime='2019-10-03 15:28:20', lpep_dropoff_datetime='2019-10-03 15:45:33', PULocationID=130, DOLocationID=121, passenger_count=1.0, trip_distance=2.32, tip_amount=0.0)\n",
      "Row(lpep_pickup_datetime='2019-10-03 17:19:37', lpep_dropoff_datetime='2019-10-03 17:42:25', PULocationID=52, DOLocationID=133, passenger_count=1.0, trip_distance=3.9, tip_amount=3.85)\n",
      "Row(lpep_pickup_datetime='2019-10-03 19:35:32', lpep_dropoff_datetime='2019-10-03 19:39:06', PULocationID=7, DOLocationID=179, passenger_count=1.0, trip_distance=0.4, tip_amount=1.0)\n",
      "Row(lpep_pickup_datetime='2019-10-03 21:44:16', lpep_dropoff_datetime='2019-10-03 21:58:59', PULocationID=25, DOLocationID=62, passenger_count=1.0, trip_distance=2.7, tip_amount=0.0)\n",
      "Row(lpep_pickup_datetime='2019-10-04 01:00:39', lpep_dropoff_datetime='2019-10-04 01:00:47', PULocationID=97, DOLocationID=97, passenger_count=1.0, trip_distance=0.0, tip_amount=0.0)\n",
      "Row(lpep_pickup_datetime='2019-10-04 08:55:09', lpep_dropoff_datetime='2019-10-04 09:21:00', PULocationID=65, DOLocationID=65, passenger_count=1.0, trip_distance=1.87, tip_amount=0.0)\n",
      "Row(lpep_pickup_datetime='2019-10-04 10:10:16', lpep_dropoff_datetime='2019-10-04 10:16:00', PULocationID=179, DOLocationID=145, passenger_count=1.0, trip_distance=1.75, tip_amount=1.66)\n",
      "Row(lpep_pickup_datetime='2019-10-04 12:25:31', lpep_dropoff_datetime='2019-10-04 12:32:55', PULocationID=129, DOLocationID=129, passenger_count=1.0, trip_distance=2.55, tip_amount=0.0)\n",
      "Row(lpep_pickup_datetime='2019-10-04 14:20:41', lpep_dropoff_datetime='2019-10-04 14:25:58', PULocationID=116, DOLocationID=116, passenger_count=2.0, trip_distance=0.76, tip_amount=0.0)\n",
      "Row(lpep_pickup_datetime='2019-10-04 16:37:46', lpep_dropoff_datetime='2019-10-04 16:53:35', PULocationID=196, DOLocationID=82, passenger_count=1.0, trip_distance=2.16, tip_amount=0.0)\n",
      "Row(lpep_pickup_datetime='2019-10-04 18:51:25', lpep_dropoff_datetime='2019-10-04 19:11:16', PULocationID=65, DOLocationID=106, passenger_count=1.0, trip_distance=3.66, tip_amount=3.46)\n",
      "Row(lpep_pickup_datetime='2019-10-04 19:08:07', lpep_dropoff_datetime='2019-10-04 19:24:03', PULocationID=181, DOLocationID=65, passenger_count=1.0, trip_distance=2.27, tip_amount=4.14)\n",
      "Row(lpep_pickup_datetime='2019-10-04 21:39:01', lpep_dropoff_datetime='2019-10-04 22:00:19', PULocationID=247, DOLocationID=162, passenger_count=1.0, trip_distance=7.07, tip_amount=5.31)\n",
      "Row(lpep_pickup_datetime='2019-10-04 23:46:34', lpep_dropoff_datetime='2019-10-05 00:21:12', PULocationID=33, DOLocationID=132, passenger_count=1.0, trip_distance=17.69, tip_amount=0.0)\n",
      "Row(lpep_pickup_datetime='2019-10-05 02:05:23', lpep_dropoff_datetime='2019-10-05 02:11:18', PULocationID=134, DOLocationID=134, passenger_count=1.0, trip_distance=1.31, tip_amount=0.0)\n",
      "Row(lpep_pickup_datetime='2019-10-05 09:27:17', lpep_dropoff_datetime='2019-10-05 09:32:08', PULocationID=145, DOLocationID=112, passenger_count=3.0, trip_distance=1.2, tip_amount=1.35)\n",
      "Row(lpep_pickup_datetime='2019-10-05 12:22:21', lpep_dropoff_datetime='2019-10-05 12:29:03', PULocationID=188, DOLocationID=62, passenger_count=1.0, trip_distance=0.77, tip_amount=0.0)\n",
      "Row(lpep_pickup_datetime='2019-10-05 14:41:49', lpep_dropoff_datetime='2019-10-05 14:50:07', PULocationID=179, DOLocationID=146, passenger_count=1.0, trip_distance=1.64, tip_amount=0.0)\n",
      "Row(lpep_pickup_datetime='2019-10-05 16:41:45', lpep_dropoff_datetime='2019-10-05 16:49:46', PULocationID=66, DOLocationID=33, passenger_count=1.0, trip_distance=1.02, tip_amount=1.5)\n",
      "Row(lpep_pickup_datetime='2019-10-05 18:18:23', lpep_dropoff_datetime='2019-10-05 18:36:12', PULocationID=28, DOLocationID=95, passenger_count=1.0, trip_distance=3.6, tip_amount=0.0)\n",
      "Row(lpep_pickup_datetime='2019-10-05 20:04:47', lpep_dropoff_datetime='2019-10-05 20:07:53', PULocationID=52, DOLocationID=25, passenger_count=1.0, trip_distance=0.46, tip_amount=0.0)\n",
      "Row(lpep_pickup_datetime='2019-10-05 22:49:22', lpep_dropoff_datetime='2019-10-05 22:54:54', PULocationID=41, DOLocationID=41, passenger_count=1.0, trip_distance=0.81, tip_amount=0.0)\n",
      "Row(lpep_pickup_datetime='2019-10-06 00:29:15', lpep_dropoff_datetime='2019-10-06 00:37:04', PULocationID=83, DOLocationID=260, passenger_count=1.0, trip_distance=1.7, tip_amount=0.0)\n",
      "Row(lpep_pickup_datetime='2019-10-06 04:57:10', lpep_dropoff_datetime='2019-10-06 05:00:23', PULocationID=82, DOLocationID=82, passenger_count=2.0, trip_distance=0.55, tip_amount=0.0)\n",
      "Row(lpep_pickup_datetime='2019-10-06 10:01:44', lpep_dropoff_datetime='2019-10-06 10:05:40', PULocationID=74, DOLocationID=263, passenger_count=1.0, trip_distance=1.32, tip_amount=1.26)\n",
      "Row(lpep_pickup_datetime='2019-10-06 12:19:11', lpep_dropoff_datetime='2019-10-06 12:26:32', PULocationID=41, DOLocationID=151, passenger_count=1.0, trip_distance=1.22, tip_amount=1.56)\n",
      "Row(lpep_pickup_datetime='2019-10-06 15:04:32', lpep_dropoff_datetime='2019-10-06 15:09:45', PULocationID=134, DOLocationID=28, passenger_count=1.0, trip_distance=1.11, tip_amount=0.01)\n",
      "Row(lpep_pickup_datetime='2019-10-06 17:05:59', lpep_dropoff_datetime='2019-10-06 17:15:33', PULocationID=41, DOLocationID=75, passenger_count=1.0, trip_distance=2.0, tip_amount=0.0)\n",
      "Row(lpep_pickup_datetime='2019-10-06 19:11:30', lpep_dropoff_datetime='2019-10-06 19:42:16', PULocationID=130, DOLocationID=100, passenger_count=7.0, trip_distance=12.71, tip_amount=15.77)\n"
     ]
    },
    {
     "name": "stdout",
     "output_type": "stream",
     "text": [
      "Row(lpep_pickup_datetime='2019-10-06 22:04:18', lpep_dropoff_datetime='2019-10-06 22:20:48', PULocationID=173, DOLocationID=83, passenger_count=2.0, trip_distance=2.67, tip_amount=0.0)\n",
      "Row(lpep_pickup_datetime='2019-10-07 07:21:21', lpep_dropoff_datetime='2019-10-07 07:27:39', PULocationID=7, DOLocationID=7, passenger_count=1.0, trip_distance=1.05, tip_amount=0.0)\n",
      "Row(lpep_pickup_datetime='2019-10-07 09:09:43', lpep_dropoff_datetime='2019-10-07 09:45:19', PULocationID=66, DOLocationID=132, passenger_count=1.0, trip_distance=17.58, tip_amount=7.24)\n",
      "Row(lpep_pickup_datetime='2019-10-07 11:52:45', lpep_dropoff_datetime='2019-10-07 12:08:33', PULocationID=82, DOLocationID=129, passenger_count=1.0, trip_distance=1.9, tip_amount=0.0)\n",
      "Row(lpep_pickup_datetime='2019-10-07 06:19:44', lpep_dropoff_datetime='2019-10-07 06:29:33', PULocationID=97, DOLocationID=49, passenger_count=1.0, trip_distance=1.3, tip_amount=1.76)\n",
      "Row(lpep_pickup_datetime='2019-10-07 16:00:30', lpep_dropoff_datetime='2019-10-07 16:13:35', PULocationID=97, DOLocationID=49, passenger_count=1.0, trip_distance=1.32, tip_amount=0.0)\n",
      "Row(lpep_pickup_datetime='2019-10-07 18:49:02', lpep_dropoff_datetime='2019-10-07 18:52:35', PULocationID=82, DOLocationID=83, passenger_count=1.0, trip_distance=0.75, tip_amount=0.0)\n",
      "Row(lpep_pickup_datetime='2019-10-07 19:50:36', lpep_dropoff_datetime='2019-10-07 20:02:55', PULocationID=42, DOLocationID=236, passenger_count=1.0, trip_distance=2.89, tip_amount=0.0)\n",
      "Row(lpep_pickup_datetime='2019-10-07 22:53:43', lpep_dropoff_datetime='2019-10-07 23:08:34', PULocationID=116, DOLocationID=74, passenger_count=1.0, trip_distance=3.8, tip_amount=0.0)\n",
      "Row(lpep_pickup_datetime='2019-10-08 07:40:55', lpep_dropoff_datetime='2019-10-08 07:51:34', PULocationID=7, DOLocationID=7, passenger_count=1.0, trip_distance=1.24, tip_amount=0.0)\n",
      "Row(lpep_pickup_datetime='2019-10-08 09:17:12', lpep_dropoff_datetime='2019-10-08 09:43:43', PULocationID=82, DOLocationID=175, passenger_count=1.0, trip_distance=6.87, tip_amount=0.0)\n",
      "Row(lpep_pickup_datetime='2019-10-08 11:02:38', lpep_dropoff_datetime='2019-10-08 11:39:34', PULocationID=65, DOLocationID=149, passenger_count=1.0, trip_distance=9.81, tip_amount=0.0)\n",
      "Row(lpep_pickup_datetime='2019-10-08 14:36:59', lpep_dropoff_datetime='2019-10-08 14:49:31', PULocationID=253, DOLocationID=173, passenger_count=1.0, trip_distance=2.2, tip_amount=0.0)\n",
      "Row(lpep_pickup_datetime='2019-10-08 16:46:09', lpep_dropoff_datetime='2019-10-08 17:02:16', PULocationID=181, DOLocationID=188, passenger_count=2.0, trip_distance=2.0, tip_amount=0.0)\n",
      "Row(lpep_pickup_datetime='2019-10-08 17:36:59', lpep_dropoff_datetime='2019-10-08 17:41:27', PULocationID=75, DOLocationID=41, passenger_count=1.0, trip_distance=0.83, tip_amount=1.36)\n",
      "Row(lpep_pickup_datetime='2019-10-08 19:54:46', lpep_dropoff_datetime='2019-10-08 20:00:51', PULocationID=134, DOLocationID=130, passenger_count=1.0, trip_distance=1.95, tip_amount=2.45)\n",
      "Row(lpep_pickup_datetime='2019-10-08 22:34:23', lpep_dropoff_datetime='2019-10-08 22:38:33', PULocationID=129, DOLocationID=129, passenger_count=3.0, trip_distance=0.86, tip_amount=0.0)\n",
      "Row(lpep_pickup_datetime='2019-10-09 07:22:00', lpep_dropoff_datetime='2019-10-09 07:54:07', PULocationID=166, DOLocationID=100, passenger_count=1.0, trip_distance=6.52, tip_amount=0.0)\n",
      "Row(lpep_pickup_datetime='2019-10-09 10:18:51', lpep_dropoff_datetime='2019-10-09 10:42:03', PULocationID=75, DOLocationID=226, passenger_count=1.0, trip_distance=0.0, tip_amount=0.0)\n",
      "Row(lpep_pickup_datetime='2019-10-09 12:41:34', lpep_dropoff_datetime='2019-10-09 12:48:41', PULocationID=75, DOLocationID=74, passenger_count=2.0, trip_distance=1.3, tip_amount=0.0)\n",
      "Row(lpep_pickup_datetime='2019-10-09 14:47:27', lpep_dropoff_datetime='2019-10-09 14:55:12', PULocationID=52, DOLocationID=65, passenger_count=1.0, trip_distance=0.69, tip_amount=1.82)\n",
      "Row(lpep_pickup_datetime='2019-10-09 17:16:03', lpep_dropoff_datetime='2019-10-09 17:23:11', PULocationID=210, DOLocationID=108, passenger_count=1.0, trip_distance=0.87, tip_amount=0.0)\n",
      "Row(lpep_pickup_datetime='2019-10-09 18:48:24', lpep_dropoff_datetime='2019-10-09 18:56:02', PULocationID=134, DOLocationID=197, passenger_count=1.0, trip_distance=1.1, tip_amount=1.75)\n",
      "Row(lpep_pickup_datetime='2019-10-09 20:24:41', lpep_dropoff_datetime='2019-10-09 20:31:52', PULocationID=42, DOLocationID=42, passenger_count=1.0, trip_distance=0.78, tip_amount=0.0)\n",
      "Row(lpep_pickup_datetime='2019-10-09 23:39:20', lpep_dropoff_datetime='2019-10-09 23:49:46', PULocationID=41, DOLocationID=152, passenger_count=1.0, trip_distance=2.0, tip_amount=0.0)\n",
      "Row(lpep_pickup_datetime='2019-10-10 08:49:52', lpep_dropoff_datetime='2019-10-10 08:56:05', PULocationID=223, DOLocationID=223, passenger_count=1.0, trip_distance=1.23, tip_amount=0.0)\n",
      "Row(lpep_pickup_datetime='2019-10-10 09:59:53', lpep_dropoff_datetime='2019-10-10 10:04:36', PULocationID=7, DOLocationID=179, passenger_count=1.0, trip_distance=1.0, tip_amount=0.0)\n",
      "Row(lpep_pickup_datetime='2019-10-10 12:40:14', lpep_dropoff_datetime='2019-10-10 12:46:01', PULocationID=41, DOLocationID=166, passenger_count=1.0, trip_distance=0.52, tip_amount=0.0)\n",
      "Row(lpep_pickup_datetime='2019-10-10 15:49:42', lpep_dropoff_datetime='2019-10-10 15:58:44', PULocationID=95, DOLocationID=95, passenger_count=2.0, trip_distance=1.22, tip_amount=0.0)\n",
      "Row(lpep_pickup_datetime='2019-10-10 16:02:45', lpep_dropoff_datetime='2019-10-10 16:26:48', PULocationID=134, DOLocationID=191, passenger_count=1.0, trip_distance=5.22, tip_amount=1.0)\n",
      "Row(lpep_pickup_datetime='2019-10-10 18:29:22', lpep_dropoff_datetime='2019-10-10 18:35:58', PULocationID=43, DOLocationID=43, passenger_count=1.0, trip_distance=1.19, tip_amount=1.58)\n",
      "Row(lpep_pickup_datetime='2019-10-10 19:59:00', lpep_dropoff_datetime='2019-10-10 20:09:56', PULocationID=82, DOLocationID=129, passenger_count=1.0, trip_distance=1.64, tip_amount=0.0)\n",
      "Row(lpep_pickup_datetime='2019-10-10 21:29:42', lpep_dropoff_datetime='2019-10-10 21:44:42', PULocationID=74, DOLocationID=238, passenger_count=1.0, trip_distance=3.24, tip_amount=3.41)\n",
      "Row(lpep_pickup_datetime='2019-10-11 00:43:28', lpep_dropoff_datetime='2019-10-11 01:10:18', PULocationID=97, DOLocationID=43, passenger_count=2.0, trip_distance=9.69, tip_amount=7.01)\n",
      "Row(lpep_pickup_datetime='2019-10-11 07:55:53', lpep_dropoff_datetime='2019-10-11 08:23:24', PULocationID=7, DOLocationID=88, passenger_count=1.0, trip_distance=9.81, tip_amount=4.0)\n",
      "Row(lpep_pickup_datetime='2019-10-11 08:59:30', lpep_dropoff_datetime='2019-10-11 09:07:10', PULocationID=74, DOLocationID=74, passenger_count=2.0, trip_distance=0.98, tip_amount=0.0)\n",
      "Row(lpep_pickup_datetime='2019-10-11 12:57:20', lpep_dropoff_datetime='2019-10-11 13:08:48', PULocationID=82, DOLocationID=138, passenger_count=1.0, trip_distance=3.82, tip_amount=2.0)\n",
      "Row(lpep_pickup_datetime='2019-10-11 15:53:19', lpep_dropoff_datetime='2019-10-11 16:03:31', PULocationID=129, DOLocationID=138, passenger_count=1.0, trip_distance=2.3, tip_amount=0.0)\n",
      "Row(lpep_pickup_datetime='2019-10-11 16:29:04', lpep_dropoff_datetime='2019-10-11 16:41:07', PULocationID=75, DOLocationID=74, passenger_count=1.0, trip_distance=1.2, tip_amount=2.15)\n",
      "Row(lpep_pickup_datetime='2019-10-11 18:46:51', lpep_dropoff_datetime='2019-10-11 18:58:57', PULocationID=129, DOLocationID=223, passenger_count=1.0, trip_distance=2.39, tip_amount=0.0)\n",
      "Row(lpep_pickup_datetime='2019-10-11 19:03:21', lpep_dropoff_datetime='2019-10-11 19:22:37', PULocationID=129, DOLocationID=75, passenger_count=1.0, trip_distance=6.51, tip_amount=0.0)\n",
      "Row(lpep_pickup_datetime='2019-10-11 20:58:15', lpep_dropoff_datetime='2019-10-11 21:09:49', PULocationID=25, DOLocationID=49, passenger_count=1.0, trip_distance=1.19, tip_amount=1.96)\n",
      "Row(lpep_pickup_datetime='2019-10-11 23:13:34', lpep_dropoff_datetime='2019-10-11 23:21:27', PULocationID=129, DOLocationID=260, passenger_count=1.0, trip_distance=1.11, tip_amount=0.0)\n",
      "Row(lpep_pickup_datetime='2019-10-12 02:31:06', lpep_dropoff_datetime='2019-10-12 02:41:24', PULocationID=129, DOLocationID=157, passenger_count=1.0, trip_distance=2.04, tip_amount=0.0)\n",
      "Row(lpep_pickup_datetime='2019-10-12 09:46:34', lpep_dropoff_datetime='2019-10-12 09:58:54', PULocationID=95, DOLocationID=92, passenger_count=1.0, trip_distance=0.0, tip_amount=0.0)\n",
      "Row(lpep_pickup_datetime='2019-10-12 11:16:10', lpep_dropoff_datetime='2019-10-12 11:19:43', PULocationID=247, DOLocationID=119, passenger_count=1.0, trip_distance=0.6, tip_amount=0.0)\n"
     ]
    },
    {
     "name": "stdout",
     "output_type": "stream",
     "text": [
      "Row(lpep_pickup_datetime='2019-10-12 15:00:21', lpep_dropoff_datetime='2019-10-12 15:31:16', PULocationID=145, DOLocationID=181, passenger_count=1.0, trip_distance=8.67, tip_amount=3.0)\n",
      "Row(lpep_pickup_datetime='2019-10-12 16:54:47', lpep_dropoff_datetime='2019-10-12 17:09:07', PULocationID=116, DOLocationID=41, passenger_count=2.0, trip_distance=2.39, tip_amount=0.0)\n",
      "Row(lpep_pickup_datetime='2019-10-12 18:06:35', lpep_dropoff_datetime='2019-10-12 18:26:44', PULocationID=66, DOLocationID=231, passenger_count=1.0, trip_distance=2.46, tip_amount=3.61)\n",
      "Row(lpep_pickup_datetime='2019-10-12 19:22:47', lpep_dropoff_datetime='2019-10-12 19:26:50', PULocationID=97, DOLocationID=97, passenger_count=1.0, trip_distance=0.49, tip_amount=0.0)\n",
      "Row(lpep_pickup_datetime='2019-10-12 21:39:00', lpep_dropoff_datetime='2019-10-12 21:51:12', PULocationID=255, DOLocationID=232, passenger_count=3.0, trip_distance=2.2, tip_amount=1.0)\n",
      "Row(lpep_pickup_datetime='2019-10-12 23:30:05', lpep_dropoff_datetime='2019-10-12 23:39:23', PULocationID=82, DOLocationID=82, passenger_count=1.0, trip_distance=1.24, tip_amount=0.0)\n",
      "Row(lpep_pickup_datetime='2019-10-13 01:52:24', lpep_dropoff_datetime='2019-10-13 02:07:15', PULocationID=74, DOLocationID=212, passenger_count=1.0, trip_distance=3.66, tip_amount=0.0)\n",
      "Row(lpep_pickup_datetime='2019-10-13 10:32:08', lpep_dropoff_datetime='2019-10-13 10:41:59', PULocationID=116, DOLocationID=168, passenger_count=1.0, trip_distance=2.14, tip_amount=0.0)\n",
      "Row(lpep_pickup_datetime='2019-10-13 12:17:53', lpep_dropoff_datetime='2019-10-13 12:27:07', PULocationID=41, DOLocationID=75, passenger_count=2.0, trip_distance=1.67, tip_amount=1.86)\n",
      "Row(lpep_pickup_datetime='2019-10-13 15:04:54', lpep_dropoff_datetime='2019-10-13 15:09:29', PULocationID=74, DOLocationID=74, passenger_count=2.0, trip_distance=0.79, tip_amount=1.45)\n",
      "Row(lpep_pickup_datetime='2019-10-13 17:37:18', lpep_dropoff_datetime='2019-10-13 17:38:54', PULocationID=244, DOLocationID=244, passenger_count=1.0, trip_distance=0.36, tip_amount=0.0)\n",
      "Row(lpep_pickup_datetime='2019-10-13 19:16:06', lpep_dropoff_datetime='2019-10-13 19:25:23', PULocationID=112, DOLocationID=80, passenger_count=2.0, trip_distance=1.82, tip_amount=0.0)\n",
      "Row(lpep_pickup_datetime='2019-10-13 22:44:52', lpep_dropoff_datetime='2019-10-13 22:57:51', PULocationID=75, DOLocationID=233, passenger_count=1.0, trip_distance=4.42, tip_amount=0.0)\n",
      "Row(lpep_pickup_datetime='2019-10-14 04:05:04', lpep_dropoff_datetime='2019-10-14 04:34:33', PULocationID=18, DOLocationID=152, passenger_count=1.0, trip_distance=5.78, tip_amount=4.96)\n",
      "Row(lpep_pickup_datetime='2019-10-14 09:45:12', lpep_dropoff_datetime='2019-10-14 10:06:38', PULocationID=74, DOLocationID=237, passenger_count=1.0, trip_distance=3.11, tip_amount=1.5)\n",
      "Row(lpep_pickup_datetime='2019-10-14 12:19:25', lpep_dropoff_datetime='2019-10-14 12:36:29', PULocationID=75, DOLocationID=161, passenger_count=1.0, trip_distance=4.0, tip_amount=3.91)\n",
      "Row(lpep_pickup_datetime='2019-10-14 14:04:05', lpep_dropoff_datetime='2019-10-14 14:10:44', PULocationID=74, DOLocationID=41, passenger_count=6.0, trip_distance=1.14, tip_amount=2.0)\n",
      "Row(lpep_pickup_datetime='2019-10-14 17:44:41', lpep_dropoff_datetime='2019-10-14 17:47:41', PULocationID=243, DOLocationID=243, passenger_count=1.0, trip_distance=0.41, tip_amount=0.0)\n",
      "Row(lpep_pickup_datetime='2019-10-14 18:14:09', lpep_dropoff_datetime='2019-10-14 18:32:15', PULocationID=97, DOLocationID=37, passenger_count=1.0, trip_distance=3.59, tip_amount=0.0)\n",
      "Row(lpep_pickup_datetime='2019-10-14 20:45:06', lpep_dropoff_datetime='2019-10-14 20:55:56', PULocationID=166, DOLocationID=24, passenger_count=1.0, trip_distance=0.76, tip_amount=0.0)\n",
      "Row(lpep_pickup_datetime='2019-10-15 01:50:10', lpep_dropoff_datetime='2019-10-15 01:53:00', PULocationID=210, DOLocationID=210, passenger_count=1.0, trip_distance=0.6, tip_amount=0.0)\n",
      "Row(lpep_pickup_datetime='2019-10-15 08:31:58', lpep_dropoff_datetime='2019-10-15 08:43:59', PULocationID=66, DOLocationID=87, passenger_count=1.0, trip_distance=2.17, tip_amount=2.81)\n",
      "Row(lpep_pickup_datetime='2019-10-15 10:51:14', lpep_dropoff_datetime='2019-10-15 10:57:07', PULocationID=75, DOLocationID=238, passenger_count=1.0, trip_distance=1.1, tip_amount=1.5)\n",
      "Row(lpep_pickup_datetime='2019-10-15 13:21:51', lpep_dropoff_datetime='2019-10-15 13:41:48', PULocationID=244, DOLocationID=75, passenger_count=1.0, trip_distance=5.73, tip_amount=3.0)\n",
      "Row(lpep_pickup_datetime='2019-10-15 15:48:15', lpep_dropoff_datetime='2019-10-15 16:05:27', PULocationID=129, DOLocationID=92, passenger_count=5.0, trip_distance=2.97, tip_amount=0.0)\n",
      "Row(lpep_pickup_datetime='2019-10-15 17:59:35', lpep_dropoff_datetime='2019-10-15 18:01:42', PULocationID=25, DOLocationID=25, passenger_count=1.0, trip_distance=0.5, tip_amount=0.0)\n",
      "Row(lpep_pickup_datetime='2019-10-15 19:20:55', lpep_dropoff_datetime='2019-10-15 19:24:36', PULocationID=260, DOLocationID=226, passenger_count=1.0, trip_distance=0.84, tip_amount=1.36)\n",
      "Row(lpep_pickup_datetime='2019-10-15 20:23:53', lpep_dropoff_datetime='2019-10-15 20:45:59', PULocationID=130, DOLocationID=191, passenger_count=1.0, trip_distance=4.51, tip_amount=0.0)\n",
      "Row(lpep_pickup_datetime='2019-10-15 22:34:41', lpep_dropoff_datetime='2019-10-15 22:48:02', PULocationID=244, DOLocationID=166, passenger_count=2.0, trip_distance=3.2, tip_amount=3.58)\n",
      "Row(lpep_pickup_datetime='2019-10-16 06:48:43', lpep_dropoff_datetime='2019-10-16 06:58:03', PULocationID=196, DOLocationID=28, passenger_count=1.0, trip_distance=4.45, tip_amount=0.0)\n",
      "Row(lpep_pickup_datetime='2019-10-16 09:10:20', lpep_dropoff_datetime='2019-10-16 09:26:24', PULocationID=42, DOLocationID=74, passenger_count=1.0, trip_distance=1.3, tip_amount=0.0)\n",
      "Row(lpep_pickup_datetime='2019-10-16 11:52:14', lpep_dropoff_datetime='2019-10-16 12:06:42', PULocationID=65, DOLocationID=181, passenger_count=1.0, trip_distance=1.8, tip_amount=0.0)\n",
      "Row(lpep_pickup_datetime='2019-10-16 13:00:33', lpep_dropoff_datetime='2019-10-16 13:14:17', PULocationID=122, DOLocationID=130, passenger_count=1.0, trip_distance=2.29, tip_amount=0.0)\n",
      "Row(lpep_pickup_datetime='2019-10-16 15:42:55', lpep_dropoff_datetime='2019-10-16 15:54:29', PULocationID=74, DOLocationID=166, passenger_count=1.0, trip_distance=1.4, tip_amount=1.96)\n",
      "Row(lpep_pickup_datetime='2019-10-16 16:55:43', lpep_dropoff_datetime='2019-10-16 17:02:59', PULocationID=95, DOLocationID=196, passenger_count=1.0, trip_distance=1.26, tip_amount=1.0)\n",
      "Row(lpep_pickup_datetime='2019-10-16 18:43:32', lpep_dropoff_datetime='2019-10-16 18:51:56', PULocationID=49, DOLocationID=61, passenger_count=1.0, trip_distance=1.28, tip_amount=1.76)\n",
      "Row(lpep_pickup_datetime='2019-10-16 19:41:00', lpep_dropoff_datetime='2019-10-16 19:46:46', PULocationID=95, DOLocationID=95, passenger_count=1.0, trip_distance=1.1, tip_amount=1.95)\n",
      "Row(lpep_pickup_datetime='2019-10-16 21:24:55', lpep_dropoff_datetime='2019-10-16 21:45:38', PULocationID=33, DOLocationID=256, passenger_count=1.0, trip_distance=3.95, tip_amount=2.0)\n",
      "Row(lpep_pickup_datetime='2019-10-17 00:02:53', lpep_dropoff_datetime='2019-10-17 00:17:16', PULocationID=166, DOLocationID=244, passenger_count=1.0, trip_distance=3.05, tip_amount=0.0)\n",
      "Row(lpep_pickup_datetime='2019-10-17 08:53:58', lpep_dropoff_datetime='2019-10-17 09:20:08', PULocationID=82, DOLocationID=171, passenger_count=1.0, trip_distance=7.28, tip_amount=0.0)\n",
      "Row(lpep_pickup_datetime='2019-10-17 10:53:49', lpep_dropoff_datetime='2019-10-17 10:54:59', PULocationID=244, DOLocationID=244, passenger_count=1.0, trip_distance=0.0, tip_amount=0.0)\n",
      "Row(lpep_pickup_datetime='2019-10-17 12:14:29', lpep_dropoff_datetime='2019-10-17 12:37:18', PULocationID=255, DOLocationID=233, passenger_count=2.0, trip_distance=4.23, tip_amount=0.0)\n",
      "Row(lpep_pickup_datetime='2019-10-17 14:25:41', lpep_dropoff_datetime='2019-10-17 14:58:45', PULocationID=89, DOLocationID=62, passenger_count=2.0, trip_distance=2.69, tip_amount=0.0)\n",
      "Row(lpep_pickup_datetime='2019-10-17 16:37:03', lpep_dropoff_datetime='2019-10-17 16:43:42', PULocationID=74, DOLocationID=42, passenger_count=1.0, trip_distance=0.87, tip_amount=0.08)\n",
      "Row(lpep_pickup_datetime='2019-10-17 17:31:53', lpep_dropoff_datetime='2019-10-17 17:33:22', PULocationID=75, DOLocationID=75, passenger_count=1.0, trip_distance=0.47, tip_amount=0.0)\n",
      "Row(lpep_pickup_datetime='2019-10-17 19:34:10', lpep_dropoff_datetime='2019-10-17 19:38:43', PULocationID=260, DOLocationID=260, passenger_count=1.0, trip_distance=0.76, tip_amount=1.7)\n"
     ]
    },
    {
     "name": "stdout",
     "output_type": "stream",
     "text": [
      "Row(lpep_pickup_datetime='2019-10-17 21:27:24', lpep_dropoff_datetime='2019-10-17 21:42:08', PULocationID=254, DOLocationID=200, passenger_count=1.0, trip_distance=4.9, tip_amount=0.0)\n",
      "Row(lpep_pickup_datetime='2019-10-17 23:01:10', lpep_dropoff_datetime='2019-10-17 23:09:31', PULocationID=95, DOLocationID=130, passenger_count=1.0, trip_distance=2.28, tip_amount=2.16)\n",
      "Row(lpep_pickup_datetime='2019-10-18 03:01:11', lpep_dropoff_datetime='2019-10-18 03:05:30', PULocationID=7, DOLocationID=146, passenger_count=2.0, trip_distance=1.03, tip_amount=0.0)\n",
      "Row(lpep_pickup_datetime='2019-10-18 08:49:37', lpep_dropoff_datetime='2019-10-18 08:55:34', PULocationID=42, DOLocationID=74, passenger_count=1.0, trip_distance=0.76, tip_amount=1.0)\n",
      "Row(lpep_pickup_datetime='2019-10-18 09:58:24', lpep_dropoff_datetime='2019-10-18 10:13:29', PULocationID=35, DOLocationID=177, passenger_count=1.0, trip_distance=0.9, tip_amount=0.0)\n",
      "Row(lpep_pickup_datetime='2019-10-18 12:54:43', lpep_dropoff_datetime='2019-10-18 13:02:07', PULocationID=166, DOLocationID=151, passenger_count=1.0, trip_distance=1.23, tip_amount=1.8)\n",
      "Row(lpep_pickup_datetime='2019-10-18 14:23:43', lpep_dropoff_datetime='2019-10-18 14:41:19', PULocationID=146, DOLocationID=141, passenger_count=1.0, trip_distance=2.11, tip_amount=0.0)\n",
      "Row(lpep_pickup_datetime='2019-10-18 15:40:46', lpep_dropoff_datetime='2019-10-18 15:56:08', PULocationID=247, DOLocationID=152, passenger_count=2.0, trip_distance=1.65, tip_amount=0.0)\n",
      "Row(lpep_pickup_datetime='2019-10-18 17:16:47', lpep_dropoff_datetime='2019-10-18 17:25:43', PULocationID=7, DOLocationID=179, passenger_count=2.0, trip_distance=1.27, tip_amount=1.86)\n",
      "Row(lpep_pickup_datetime='2019-10-18 18:44:02', lpep_dropoff_datetime='2019-10-18 19:06:14', PULocationID=82, DOLocationID=173, passenger_count=1.0, trip_distance=1.6, tip_amount=0.0)\n",
      "Row(lpep_pickup_datetime='2019-10-18 20:00:13', lpep_dropoff_datetime='2019-10-18 20:04:16', PULocationID=75, DOLocationID=74, passenger_count=1.0, trip_distance=0.85, tip_amount=0.0)\n",
      "Row(lpep_pickup_datetime='2019-10-18 21:33:18', lpep_dropoff_datetime='2019-10-18 21:42:45', PULocationID=74, DOLocationID=236, passenger_count=1.0, trip_distance=1.93, tip_amount=2.61)\n",
      "Row(lpep_pickup_datetime='2019-10-18 23:01:26', lpep_dropoff_datetime='2019-10-18 23:12:17', PULocationID=65, DOLocationID=209, passenger_count=1.0, trip_distance=2.2, tip_amount=1.0)\n",
      "Row(lpep_pickup_datetime='2019-10-19 01:23:39', lpep_dropoff_datetime='2019-10-19 01:36:12', PULocationID=255, DOLocationID=17, passenger_count=1.0, trip_distance=2.61, tip_amount=3.2)\n",
      "Row(lpep_pickup_datetime='2019-10-19 05:01:04', lpep_dropoff_datetime='2019-10-19 05:11:11', PULocationID=41, DOLocationID=262, passenger_count=1.0, trip_distance=2.03, tip_amount=2.71)\n",
      "Row(lpep_pickup_datetime='2019-10-19 10:53:29', lpep_dropoff_datetime='2019-10-19 11:06:01', PULocationID=145, DOLocationID=260, passenger_count=2.0, trip_distance=4.58, tip_amount=3.16)\n",
      "Row(lpep_pickup_datetime='2019-10-19 12:30:38', lpep_dropoff_datetime='2019-10-19 12:36:34', PULocationID=41, DOLocationID=41, passenger_count=1.0, trip_distance=0.91, tip_amount=0.0)\n",
      "Row(lpep_pickup_datetime='2019-10-19 14:10:52', lpep_dropoff_datetime='2019-10-19 14:37:22', PULocationID=33, DOLocationID=37, passenger_count=1.0, trip_distance=5.52, tip_amount=5.45)\n",
      "Row(lpep_pickup_datetime='2019-10-19 16:41:27', lpep_dropoff_datetime='2019-10-19 16:41:33', PULocationID=263, DOLocationID=263, passenger_count=2.0, trip_distance=0.0, tip_amount=0.0)\n",
      "Row(lpep_pickup_datetime='2019-10-19 18:05:33', lpep_dropoff_datetime='2019-10-19 18:20:21', PULocationID=7, DOLocationID=140, passenger_count=1.0, trip_distance=3.95, tip_amount=2.71)\n",
      "Row(lpep_pickup_datetime='2019-10-19 20:16:21', lpep_dropoff_datetime='2019-10-19 20:30:32', PULocationID=41, DOLocationID=239, passenger_count=1.0, trip_distance=2.74, tip_amount=4.82)\n",
      "Row(lpep_pickup_datetime='2019-10-19 21:17:39', lpep_dropoff_datetime='2019-10-19 21:48:59', PULocationID=213, DOLocationID=47, passenger_count=3.0, trip_distance=4.56, tip_amount=0.0)\n",
      "Row(lpep_pickup_datetime='2019-10-19 23:28:02', lpep_dropoff_datetime='2019-10-19 23:29:21', PULocationID=129, DOLocationID=260, passenger_count=1.0, trip_distance=0.39, tip_amount=0.0)\n",
      "Row(lpep_pickup_datetime='2019-10-20 03:03:30', lpep_dropoff_datetime='2019-10-20 03:08:03', PULocationID=255, DOLocationID=112, passenger_count=1.0, trip_distance=0.9, tip_amount=1.0)\n",
      "Row(lpep_pickup_datetime='2019-10-20 10:05:20', lpep_dropoff_datetime='2019-10-20 10:36:34', PULocationID=183, DOLocationID=236, passenger_count=1.0, trip_distance=10.17, tip_amount=0.0)\n",
      "Row(lpep_pickup_datetime='2019-10-20 12:21:54', lpep_dropoff_datetime='2019-10-20 12:30:24', PULocationID=42, DOLocationID=116, passenger_count=1.0, trip_distance=1.11, tip_amount=0.0)\n",
      "Row(lpep_pickup_datetime='2019-10-20 15:10:30', lpep_dropoff_datetime='2019-10-20 15:17:35', PULocationID=97, DOLocationID=65, passenger_count=1.0, trip_distance=0.77, tip_amount=1.7)\n",
      "Row(lpep_pickup_datetime='2019-10-20 16:37:22', lpep_dropoff_datetime='2019-10-20 16:51:42', PULocationID=260, DOLocationID=146, passenger_count=1.0, trip_distance=2.33, tip_amount=3.08)\n",
      "Row(lpep_pickup_datetime='2019-10-20 19:40:35', lpep_dropoff_datetime='2019-10-20 19:56:13', PULocationID=65, DOLocationID=61, passenger_count=1.0, trip_distance=2.12, tip_amount=2.46)\n",
      "Row(lpep_pickup_datetime='2019-10-20 21:19:58', lpep_dropoff_datetime='2019-10-20 21:40:19', PULocationID=260, DOLocationID=17, passenger_count=1.0, trip_distance=6.64, tip_amount=0.0)\n",
      "Row(lpep_pickup_datetime='2019-10-21 07:57:03', lpep_dropoff_datetime='2019-10-21 08:01:25', PULocationID=166, DOLocationID=151, passenger_count=1.0, trip_distance=0.71, tip_amount=0.0)\n",
      "Row(lpep_pickup_datetime='2019-10-21 09:38:16', lpep_dropoff_datetime='2019-10-21 09:55:28', PULocationID=166, DOLocationID=75, passenger_count=1.0, trip_distance=2.59, tip_amount=2.76)\n",
      "Row(lpep_pickup_datetime='2019-10-21 12:03:59', lpep_dropoff_datetime='2019-10-21 12:10:45', PULocationID=7, DOLocationID=146, passenger_count=1.0, trip_distance=1.42, tip_amount=0.0)\n",
      "Row(lpep_pickup_datetime='2019-10-21 14:57:17', lpep_dropoff_datetime='2019-10-21 15:26:17', PULocationID=244, DOLocationID=236, passenger_count=1.0, trip_distance=6.0, tip_amount=0.0)\n",
      "Row(lpep_pickup_datetime='2019-10-21 17:02:23', lpep_dropoff_datetime='2019-10-21 17:24:54', PULocationID=133, DOLocationID=114, passenger_count=1.0, trip_distance=7.24, tip_amount=8.67)\n",
      "Row(lpep_pickup_datetime='2019-10-21 19:33:48', lpep_dropoff_datetime='2019-10-21 19:39:35', PULocationID=61, DOLocationID=61, passenger_count=5.0, trip_distance=0.67, tip_amount=0.0)\n",
      "Row(lpep_pickup_datetime='2019-10-21 20:48:32', lpep_dropoff_datetime='2019-10-21 20:57:11', PULocationID=66, DOLocationID=79, passenger_count=1.0, trip_distance=3.06, tip_amount=2.91)\n",
      "Row(lpep_pickup_datetime='2019-10-22 00:01:27', lpep_dropoff_datetime='2019-10-22 00:08:51', PULocationID=166, DOLocationID=116, passenger_count=1.0, trip_distance=1.4, tip_amount=0.0)\n",
      "Row(lpep_pickup_datetime='2019-10-22 07:19:24', lpep_dropoff_datetime='2019-10-22 07:24:33', PULocationID=244, DOLocationID=152, passenger_count=1.0, trip_distance=1.28, tip_amount=1.36)\n",
      "Row(lpep_pickup_datetime='2019-10-22 09:40:54', lpep_dropoff_datetime='2019-10-22 09:59:11', PULocationID=226, DOLocationID=196, passenger_count=1.0, trip_distance=3.53, tip_amount=1.0)\n",
      "Row(lpep_pickup_datetime='2019-10-22 12:55:11', lpep_dropoff_datetime='2019-10-22 13:02:08', PULocationID=82, DOLocationID=157, passenger_count=1.0, trip_distance=1.29, tip_amount=0.0)\n",
      "Row(lpep_pickup_datetime='2019-10-22 14:37:40', lpep_dropoff_datetime='2019-10-22 14:38:29', PULocationID=181, DOLocationID=181, passenger_count=1.0, trip_distance=0.21, tip_amount=0.0)\n",
      "Row(lpep_pickup_datetime='2019-10-22 16:24:40', lpep_dropoff_datetime='2019-10-22 16:42:57', PULocationID=74, DOLocationID=263, passenger_count=1.0, trip_distance=2.47, tip_amount=3.61)\n",
      "Row(lpep_pickup_datetime='2019-10-22 18:07:29', lpep_dropoff_datetime='2019-10-22 18:22:09', PULocationID=74, DOLocationID=159, passenger_count=1.0, trip_distance=1.88, tip_amount=0.0)\n",
      "Row(lpep_pickup_datetime='2019-10-22 19:46:03', lpep_dropoff_datetime='2019-10-22 19:52:49', PULocationID=210, DOLocationID=108, passenger_count=1.0, trip_distance=1.09, tip_amount=1.66)\n",
      "Row(lpep_pickup_datetime='2019-10-22 22:10:03', lpep_dropoff_datetime='2019-10-22 22:17:18', PULocationID=41, DOLocationID=116, passenger_count=1.0, trip_distance=1.44, tip_amount=0.0)\n"
     ]
    },
    {
     "name": "stdout",
     "output_type": "stream",
     "text": [
      "Row(lpep_pickup_datetime='2019-10-23 07:32:46', lpep_dropoff_datetime='2019-10-23 07:44:25', PULocationID=74, DOLocationID=166, passenger_count=1.0, trip_distance=1.42, tip_amount=2.94)\n",
      "Row(lpep_pickup_datetime='2019-10-23 10:58:35', lpep_dropoff_datetime='2019-10-23 11:05:23', PULocationID=260, DOLocationID=157, passenger_count=1.0, trip_distance=1.4, tip_amount=0.0)\n",
      "Row(lpep_pickup_datetime='2019-10-23 12:13:42', lpep_dropoff_datetime='2019-10-23 12:26:18', PULocationID=74, DOLocationID=152, passenger_count=1.0, trip_distance=1.44, tip_amount=0.0)\n",
      "Row(lpep_pickup_datetime='2019-10-23 14:17:46', lpep_dropoff_datetime='2019-10-23 14:39:58', PULocationID=116, DOLocationID=75, passenger_count=1.0, trip_distance=4.11, tip_amount=3.56)\n",
      "Row(lpep_pickup_datetime='2019-10-23 16:57:03', lpep_dropoff_datetime='2019-10-23 17:04:28', PULocationID=159, DOLocationID=159, passenger_count=1.0, trip_distance=0.93, tip_amount=0.0)\n",
      "Row(lpep_pickup_datetime='2019-10-23 18:15:42', lpep_dropoff_datetime='2019-10-23 18:25:25', PULocationID=74, DOLocationID=75, passenger_count=1.0, trip_distance=0.67, tip_amount=0.0)\n",
      "Row(lpep_pickup_datetime='2019-10-23 19:37:18', lpep_dropoff_datetime='2019-10-23 19:56:30', PULocationID=135, DOLocationID=82, passenger_count=1.0, trip_distance=3.46, tip_amount=0.0)\n",
      "Row(lpep_pickup_datetime='2019-10-23 21:17:56', lpep_dropoff_datetime='2019-10-23 21:57:33', PULocationID=93, DOLocationID=48, passenger_count=1.0, trip_distance=11.57, tip_amount=0.0)\n",
      "Row(lpep_pickup_datetime='2019-10-24 01:08:58', lpep_dropoff_datetime='2019-10-24 01:09:01', PULocationID=258, DOLocationID=264, passenger_count=1.0, trip_distance=0.0, tip_amount=3.0)\n",
      "Row(lpep_pickup_datetime='2019-10-24 09:26:47', lpep_dropoff_datetime='2019-10-24 09:36:15', PULocationID=75, DOLocationID=142, passenger_count=1.0, trip_distance=2.02, tip_amount=2.51)\n",
      "Row(lpep_pickup_datetime='2019-10-24 10:23:28', lpep_dropoff_datetime='2019-10-24 10:28:54', PULocationID=223, DOLocationID=223, passenger_count=1.0, trip_distance=1.12, tip_amount=1.0)\n",
      "Row(lpep_pickup_datetime='2019-10-24 13:38:00', lpep_dropoff_datetime='2019-10-25 12:28:43', PULocationID=33, DOLocationID=26, passenger_count=1.0, trip_distance=5.66, tip_amount=0.0)\n",
      "Row(lpep_pickup_datetime='2019-10-24 15:25:51', lpep_dropoff_datetime='2019-10-24 15:38:34', PULocationID=75, DOLocationID=166, passenger_count=1.0, trip_distance=1.23, tip_amount=1.0)\n",
      "Row(lpep_pickup_datetime='2019-10-24 17:19:31', lpep_dropoff_datetime='2019-10-24 17:24:10', PULocationID=75, DOLocationID=41, passenger_count=1.0, trip_distance=1.17, tip_amount=0.0)\n",
      "Row(lpep_pickup_datetime='2019-10-24 18:13:24', lpep_dropoff_datetime='2019-10-24 18:52:23', PULocationID=74, DOLocationID=48, passenger_count=1.0, trip_distance=6.87, tip_amount=5.0)\n",
      "Row(lpep_pickup_datetime='2019-10-24 20:53:09', lpep_dropoff_datetime='2019-10-24 21:22:11', PULocationID=82, DOLocationID=65, passenger_count=1.0, trip_distance=7.65, tip_amount=5.46)\n",
      "Row(lpep_pickup_datetime='2019-10-24 22:53:30', lpep_dropoff_datetime='2019-10-24 23:17:16', PULocationID=66, DOLocationID=114, passenger_count=1.0, trip_distance=3.91, tip_amount=2.2)\n",
      "Row(lpep_pickup_datetime='2019-10-25 02:49:56', lpep_dropoff_datetime='2019-10-25 03:02:21', PULocationID=36, DOLocationID=17, passenger_count=1.0, trip_distance=2.35, tip_amount=2.36)\n",
      "Row(lpep_pickup_datetime='2019-10-25 08:31:07', lpep_dropoff_datetime='2019-10-25 08:46:42', PULocationID=40, DOLocationID=249, passenger_count=1.0, trip_distance=4.55, tip_amount=6.42)\n",
      "Row(lpep_pickup_datetime='2019-10-25 11:40:47', lpep_dropoff_datetime='2019-10-25 11:57:18', PULocationID=74, DOLocationID=151, passenger_count=1.0, trip_distance=1.87, tip_amount=2.46)\n",
      "Row(lpep_pickup_datetime='2019-10-25 13:23:46', lpep_dropoff_datetime='2019-10-25 13:26:28', PULocationID=134, DOLocationID=134, passenger_count=1.0, trip_distance=0.71, tip_amount=0.0)\n",
      "Row(lpep_pickup_datetime='2019-10-25 15:10:39', lpep_dropoff_datetime='2019-10-25 15:24:25', PULocationID=210, DOLocationID=55, passenger_count=1.0, trip_distance=3.1, tip_amount=0.0)\n",
      "Row(lpep_pickup_datetime='2019-10-25 16:12:50', lpep_dropoff_datetime='2019-10-25 16:30:38', PULocationID=242, DOLocationID=78, passenger_count=1.0, trip_distance=2.64, tip_amount=0.0)\n",
      "Row(lpep_pickup_datetime='2019-10-25 17:07:22', lpep_dropoff_datetime='2019-10-25 17:33:04', PULocationID=17, DOLocationID=33, passenger_count=1.0, trip_distance=3.96, tip_amount=3.86)\n",
      "Row(lpep_pickup_datetime='2019-10-25 20:08:27', lpep_dropoff_datetime='2019-10-25 20:13:12', PULocationID=7, DOLocationID=260, passenger_count=1.0, trip_distance=1.12, tip_amount=1.36)\n",
      "Row(lpep_pickup_datetime='2019-10-25 22:19:45', lpep_dropoff_datetime='2019-10-25 22:34:33', PULocationID=181, DOLocationID=89, passenger_count=1.0, trip_distance=3.07, tip_amount=3.0)\n",
      "Row(lpep_pickup_datetime='2019-10-26 00:29:21', lpep_dropoff_datetime='2019-10-26 01:17:45', PULocationID=129, DOLocationID=116, passenger_count=1.0, trip_distance=10.19, tip_amount=0.0)\n",
      "Row(lpep_pickup_datetime='2019-10-26 03:04:21', lpep_dropoff_datetime='2019-10-26 03:14:25', PULocationID=65, DOLocationID=49, passenger_count=1.0, trip_distance=2.46, tip_amount=3.24)\n",
      "Row(lpep_pickup_datetime='2019-10-26 10:39:08', lpep_dropoff_datetime='2019-10-26 10:52:08', PULocationID=61, DOLocationID=181, passenger_count=1.0, trip_distance=2.4, tip_amount=0.0)\n",
      "Row(lpep_pickup_datetime='2019-10-26 12:26:56', lpep_dropoff_datetime='2019-10-26 12:38:28', PULocationID=74, DOLocationID=41, passenger_count=2.0, trip_distance=1.43, tip_amount=0.0)\n",
      "Row(lpep_pickup_datetime='2019-10-26 14:38:00', lpep_dropoff_datetime='2019-10-26 14:46:30', PULocationID=7, DOLocationID=146, passenger_count=1.0, trip_distance=1.6, tip_amount=1.75)\n",
      "Row(lpep_pickup_datetime='2019-10-26 16:50:16', lpep_dropoff_datetime='2019-10-26 16:57:31', PULocationID=129, DOLocationID=129, passenger_count=1.0, trip_distance=0.98, tip_amount=0.0)\n",
      "Row(lpep_pickup_datetime='2019-10-26 18:39:55', lpep_dropoff_datetime='2019-10-26 19:08:43', PULocationID=129, DOLocationID=92, passenger_count=1.0, trip_distance=3.37, tip_amount=0.0)\n",
      "Row(lpep_pickup_datetime='2019-10-26 19:38:10', lpep_dropoff_datetime='2019-10-26 19:48:33', PULocationID=33, DOLocationID=65, passenger_count=1.0, trip_distance=1.27, tip_amount=2.79)\n",
      "Row(lpep_pickup_datetime='2019-10-26 21:29:06', lpep_dropoff_datetime='2019-10-26 21:56:06', PULocationID=146, DOLocationID=256, passenger_count=1.0, trip_distance=7.5, tip_amount=3.0)\n",
      "Row(lpep_pickup_datetime='2019-10-26 23:27:46', lpep_dropoff_datetime='2019-10-26 23:51:37', PULocationID=33, DOLocationID=14, passenger_count=1.0, trip_distance=5.58, tip_amount=0.0)\n",
      "Row(lpep_pickup_datetime='2019-10-27 01:50:11', lpep_dropoff_datetime='2019-10-27 02:02:22', PULocationID=74, DOLocationID=169, passenger_count=1.0, trip_distance=4.86, tip_amount=3.46)\n",
      "Row(lpep_pickup_datetime='2019-10-27 04:44:53', lpep_dropoff_datetime='2019-10-27 05:22:15', PULocationID=80, DOLocationID=116, passenger_count=1.0, trip_distance=14.76, tip_amount=2.5)\n",
      "Row(lpep_pickup_datetime='2019-10-27 11:01:21', lpep_dropoff_datetime='2019-10-27 11:32:59', PULocationID=129, DOLocationID=56, passenger_count=1.0, trip_distance=3.25, tip_amount=4.26)\n",
      "Row(lpep_pickup_datetime='2019-10-27 12:52:07', lpep_dropoff_datetime='2019-10-27 13:06:23', PULocationID=123, DOLocationID=26, passenger_count=6.0, trip_distance=2.05, tip_amount=0.0)\n",
      "Row(lpep_pickup_datetime='2019-10-27 15:42:48', lpep_dropoff_datetime='2019-10-27 15:42:59', PULocationID=42, DOLocationID=42, passenger_count=1.0, trip_distance=0.01, tip_amount=1.0)\n",
      "Row(lpep_pickup_datetime='2019-10-27 17:19:50', lpep_dropoff_datetime='2019-10-27 17:24:09', PULocationID=7, DOLocationID=179, passenger_count=1.0, trip_distance=0.7, tip_amount=1.16)\n",
      "Row(lpep_pickup_datetime='2019-10-27 19:08:08', lpep_dropoff_datetime='2019-10-27 19:15:24', PULocationID=130, DOLocationID=215, passenger_count=2.0, trip_distance=2.0, tip_amount=2.2)\n",
      "Row(lpep_pickup_datetime='2019-10-27 22:50:44', lpep_dropoff_datetime='2019-10-27 23:00:27', PULocationID=33, DOLocationID=228, passenger_count=2.0, trip_distance=4.3, tip_amount=1.0)\n",
      "Row(lpep_pickup_datetime='2019-10-28 07:50:39', lpep_dropoff_datetime='2019-10-28 08:02:17', PULocationID=205, DOLocationID=205, passenger_count=1.0, trip_distance=1.17, tip_amount=0.0)\n",
      "Row(lpep_pickup_datetime='2019-10-28 09:09:15', lpep_dropoff_datetime='2019-10-28 09:16:56', PULocationID=74, DOLocationID=166, passenger_count=1.0, trip_distance=0.97, tip_amount=0.0)\n"
     ]
    },
    {
     "name": "stdout",
     "output_type": "stream",
     "text": [
      "Row(lpep_pickup_datetime='2019-10-28 12:56:25', lpep_dropoff_datetime='2019-10-28 13:44:04', PULocationID=244, DOLocationID=41, passenger_count=1.0, trip_distance=7.28, tip_amount=0.0)\n",
      "Row(lpep_pickup_datetime='2019-10-28 14:32:13', lpep_dropoff_datetime='2019-10-28 14:36:49', PULocationID=75, DOLocationID=151, passenger_count=1.0, trip_distance=0.99, tip_amount=1.26)\n",
      "Row(lpep_pickup_datetime='2019-10-28 17:00:52', lpep_dropoff_datetime='2019-10-28 17:11:49', PULocationID=43, DOLocationID=74, passenger_count=1.0, trip_distance=1.64, tip_amount=1.0)\n",
      "Row(lpep_pickup_datetime='2019-10-28 19:54:57', lpep_dropoff_datetime='2019-10-28 20:05:00', PULocationID=75, DOLocationID=262, passenger_count=1.0, trip_distance=1.27, tip_amount=0.0)\n",
      "Row(lpep_pickup_datetime='2019-10-28 21:28:09', lpep_dropoff_datetime='2019-10-28 21:32:33', PULocationID=244, DOLocationID=244, passenger_count=1.0, trip_distance=0.0, tip_amount=0.0)\n",
      "Row(lpep_pickup_datetime='2019-10-29 05:07:15', lpep_dropoff_datetime='2019-10-29 05:13:34', PULocationID=82, DOLocationID=7, passenger_count=1.0, trip_distance=1.52, tip_amount=0.0)\n",
      "Row(lpep_pickup_datetime='2019-10-29 09:13:53', lpep_dropoff_datetime='2019-10-29 09:18:58', PULocationID=7, DOLocationID=179, passenger_count=1.0, trip_distance=0.8, tip_amount=0.0)\n",
      "Row(lpep_pickup_datetime='2019-10-29 11:58:37', lpep_dropoff_datetime='2019-10-29 12:11:55', PULocationID=97, DOLocationID=33, passenger_count=2.0, trip_distance=1.04, tip_amount=0.0)\n",
      "Row(lpep_pickup_datetime='2019-10-29 13:28:47', lpep_dropoff_datetime='2019-10-29 13:34:29', PULocationID=75, DOLocationID=238, passenger_count=1.0, trip_distance=0.97, tip_amount=2.39)\n",
      "Row(lpep_pickup_datetime='2019-10-29 15:46:42', lpep_dropoff_datetime='2019-10-29 16:15:06', PULocationID=106, DOLocationID=137, passenger_count=1.0, trip_distance=8.68, tip_amount=6.11)\n",
      "Row(lpep_pickup_datetime='2019-10-29 17:32:00', lpep_dropoff_datetime='2019-10-29 17:48:07', PULocationID=74, DOLocationID=24, passenger_count=1.0, trip_distance=1.73, tip_amount=3.0)\n",
      "Row(lpep_pickup_datetime='2019-10-29 19:06:45', lpep_dropoff_datetime='2019-10-29 19:17:10', PULocationID=74, DOLocationID=75, passenger_count=1.0, trip_distance=1.73, tip_amount=2.06)\n",
      "Row(lpep_pickup_datetime='2019-10-29 20:43:39', lpep_dropoff_datetime='2019-10-29 20:53:18', PULocationID=75, DOLocationID=140, passenger_count=1.0, trip_distance=1.54, tip_amount=2.51)\n",
      "Row(lpep_pickup_datetime='2019-10-30 00:55:46', lpep_dropoff_datetime='2019-10-30 01:01:01', PULocationID=74, DOLocationID=41, passenger_count=1.0, trip_distance=0.62, tip_amount=0.0)\n",
      "Row(lpep_pickup_datetime='2019-10-30 08:13:37', lpep_dropoff_datetime='2019-10-30 08:22:44', PULocationID=33, DOLocationID=33, passenger_count=1.0, trip_distance=0.95, tip_amount=1.66)\n",
      "Row(lpep_pickup_datetime='2019-10-30 10:10:00', lpep_dropoff_datetime='2019-10-30 10:18:37', PULocationID=181, DOLocationID=181, passenger_count=1.0, trip_distance=1.4, tip_amount=0.0)\n",
      "Row(lpep_pickup_datetime='2019-10-30 12:11:17', lpep_dropoff_datetime='2019-10-30 12:31:11', PULocationID=33, DOLocationID=114, passenger_count=1.0, trip_distance=4.99, tip_amount=0.0)\n",
      "Row(lpep_pickup_datetime='2019-10-30 14:35:57', lpep_dropoff_datetime='2019-10-30 14:48:56', PULocationID=95, DOLocationID=121, passenger_count=1.0, trip_distance=2.65, tip_amount=0.0)\n",
      "Row(lpep_pickup_datetime='2019-10-30 16:18:18', lpep_dropoff_datetime='2019-10-30 16:26:42', PULocationID=74, DOLocationID=42, passenger_count=1.0, trip_distance=0.92, tip_amount=0.0)\n",
      "Row(lpep_pickup_datetime='2019-10-30 18:29:13', lpep_dropoff_datetime='2019-10-30 18:38:20', PULocationID=106, DOLocationID=195, passenger_count=1.0, trip_distance=1.45, tip_amount=0.0)\n",
      "Row(lpep_pickup_datetime='2019-10-30 20:39:10', lpep_dropoff_datetime='2019-10-30 20:51:45', PULocationID=97, DOLocationID=33, passenger_count=1.0, trip_distance=1.43, tip_amount=2.7)\n",
      "Row(lpep_pickup_datetime='2019-10-30 21:24:02', lpep_dropoff_datetime='2019-10-30 21:29:56', PULocationID=33, DOLocationID=54, passenger_count=1.0, trip_distance=1.05, tip_amount=1.0)\n",
      "Row(lpep_pickup_datetime='2019-10-31 01:03:41', lpep_dropoff_datetime='2019-10-31 01:11:12', PULocationID=256, DOLocationID=255, passenger_count=1.0, trip_distance=0.88, tip_amount=0.0)\n",
      "Row(lpep_pickup_datetime='2019-10-31 08:17:46', lpep_dropoff_datetime='2019-10-31 08:42:02', PULocationID=41, DOLocationID=241, passenger_count=1.0, trip_distance=6.72, tip_amount=0.0)\n",
      "Row(lpep_pickup_datetime='2019-10-31 10:45:07', lpep_dropoff_datetime='2019-10-31 10:55:39', PULocationID=95, DOLocationID=121, passenger_count=6.0, trip_distance=2.87, tip_amount=0.0)\n",
      "Row(lpep_pickup_datetime='2019-10-31 11:14:17', lpep_dropoff_datetime='2019-10-31 11:28:57', PULocationID=42, DOLocationID=74, passenger_count=1.0, trip_distance=1.88, tip_amount=0.0)\n",
      "Row(lpep_pickup_datetime='2019-10-31 14:25:18', lpep_dropoff_datetime='2019-10-31 14:45:08', PULocationID=166, DOLocationID=166, passenger_count=1.0, trip_distance=2.91, tip_amount=2.96)\n",
      "Row(lpep_pickup_datetime='2019-10-31 16:45:01', lpep_dropoff_datetime='2019-10-31 17:05:53', PULocationID=166, DOLocationID=237, passenger_count=1.0, trip_distance=3.57, tip_amount=0.0)\n",
      "Row(lpep_pickup_datetime='2019-10-31 17:56:54', lpep_dropoff_datetime='2019-10-31 18:04:35', PULocationID=166, DOLocationID=41, passenger_count=1.0, trip_distance=0.97, tip_amount=1.0)\n",
      "Row(lpep_pickup_datetime='2019-10-31 18:27:35', lpep_dropoff_datetime='2019-10-31 18:47:34', PULocationID=66, DOLocationID=189, passenger_count=1.0, trip_distance=2.4, tip_amount=3.8)\n",
      "Row(lpep_pickup_datetime='2019-10-31 20:20:36', lpep_dropoff_datetime='2019-10-31 20:39:34', PULocationID=75, DOLocationID=220, passenger_count=1.0, trip_distance=7.5, tip_amount=3.0)\n",
      "Row(lpep_pickup_datetime='2019-10-31 22:31:24', lpep_dropoff_datetime='2019-10-31 23:17:07', PULocationID=55, DOLocationID=212, passenger_count=1.0, trip_distance=28.5, tip_amount=0.0)\n",
      "Row(lpep_pickup_datetime='2019-10-01 09:22:00', lpep_dropoff_datetime='2019-10-01 09:45:00', PULocationID=41, DOLocationID=159, passenger_count=nan, trip_distance=3.81, tip_amount=0.0)\n",
      "Row(lpep_pickup_datetime='2019-10-01 17:44:00', lpep_dropoff_datetime='2019-10-01 18:29:00', PULocationID=130, DOLocationID=89, passenger_count=nan, trip_distance=11.61, tip_amount=0.0)\n",
      "Row(lpep_pickup_datetime='2019-10-02 10:06:00', lpep_dropoff_datetime='2019-10-02 11:01:00', PULocationID=222, DOLocationID=137, passenger_count=nan, trip_distance=15.08, tip_amount=0.0)\n",
      "Row(lpep_pickup_datetime='2019-10-02 16:36:00', lpep_dropoff_datetime='2019-10-02 17:07:00', PULocationID=126, DOLocationID=259, passenger_count=nan, trip_distance=8.68, tip_amount=0.0)\n",
      "Row(lpep_pickup_datetime='2019-10-03 11:49:00', lpep_dropoff_datetime='2019-10-03 12:13:00', PULocationID=45, DOLocationID=137, passenger_count=nan, trip_distance=4.43, tip_amount=0.0)\n",
      "Row(lpep_pickup_datetime='2019-10-03 20:49:00', lpep_dropoff_datetime='2019-10-03 21:10:00', PULocationID=137, DOLocationID=65, passenger_count=nan, trip_distance=5.59, tip_amount=0.0)\n",
      "Row(lpep_pickup_datetime='2019-10-04 14:47:00', lpep_dropoff_datetime='2019-10-04 15:05:00', PULocationID=137, DOLocationID=256, passenger_count=nan, trip_distance=4.95, tip_amount=0.0)\n",
      "Row(lpep_pickup_datetime='2019-10-05 10:43:00', lpep_dropoff_datetime='2019-10-05 11:45:00', PULocationID=201, DOLocationID=230, passenger_count=nan, trip_distance=20.09, tip_amount=0.0)\n",
      "Row(lpep_pickup_datetime='2019-10-05 17:30:00', lpep_dropoff_datetime='2019-10-05 18:46:00', PULocationID=210, DOLocationID=42, passenger_count=nan, trip_distance=25.83, tip_amount=0.0)\n",
      "Row(lpep_pickup_datetime='2019-10-06 13:28:00', lpep_dropoff_datetime='2019-10-06 13:52:00', PULocationID=49, DOLocationID=39, passenger_count=nan, trip_distance=5.39, tip_amount=0.0)\n",
      "Row(lpep_pickup_datetime='2019-10-07 07:46:00', lpep_dropoff_datetime='2019-10-07 08:32:00', PULocationID=223, DOLocationID=162, passenger_count=nan, trip_distance=5.74, tip_amount=0.0)\n",
      "Row(lpep_pickup_datetime='2019-10-07 13:46:00', lpep_dropoff_datetime='2019-10-07 14:13:00', PULocationID=75, DOLocationID=237, passenger_count=nan, trip_distance=2.76, tip_amount=0.0)\n",
      "Row(lpep_pickup_datetime='2019-10-08 08:07:00', lpep_dropoff_datetime='2019-10-08 08:45:00', PULocationID=134, DOLocationID=145, passenger_count=nan, trip_distance=7.03, tip_amount=0.0)\n"
     ]
    },
    {
     "name": "stdout",
     "output_type": "stream",
     "text": [
      "Row(lpep_pickup_datetime='2019-10-08 15:10:00', lpep_dropoff_datetime='2019-10-08 15:25:00', PULocationID=124, DOLocationID=218, passenger_count=nan, trip_distance=5.23, tip_amount=0.0)\n",
      "Row(lpep_pickup_datetime='2019-10-09 08:50:00', lpep_dropoff_datetime='2019-10-09 09:16:00', PULocationID=182, DOLocationID=237, passenger_count=nan, trip_distance=9.42, tip_amount=0.0)\n",
      "Row(lpep_pickup_datetime='2019-10-09 13:24:00', lpep_dropoff_datetime='2019-10-09 13:53:00', PULocationID=76, DOLocationID=72, passenger_count=nan, trip_distance=6.23, tip_amount=0.0)\n",
      "Row(lpep_pickup_datetime='2019-10-10 06:48:00', lpep_dropoff_datetime='2019-10-10 07:48:00', PULocationID=11, DOLocationID=225, passenger_count=nan, trip_distance=9.3, tip_amount=0.0)\n",
      "Row(lpep_pickup_datetime='2019-10-10 13:44:00', lpep_dropoff_datetime='2019-10-10 13:48:00', PULocationID=250, DOLocationID=182, passenger_count=nan, trip_distance=0.43, tip_amount=0.0)\n",
      "Row(lpep_pickup_datetime='2019-10-10 20:36:00', lpep_dropoff_datetime='2019-10-10 21:12:00', PULocationID=63, DOLocationID=148, passenger_count=nan, trip_distance=12.75, tip_amount=0.0)\n",
      "Row(lpep_pickup_datetime='2019-10-11 10:21:00', lpep_dropoff_datetime='2019-10-11 10:50:00', PULocationID=14, DOLocationID=76, passenger_count=nan, trip_distance=15.3, tip_amount=0.0)\n",
      "Row(lpep_pickup_datetime='2019-10-11 15:11:00', lpep_dropoff_datetime='2019-10-11 15:49:00', PULocationID=25, DOLocationID=61, passenger_count=nan, trip_distance=3.3, tip_amount=0.0)\n",
      "Row(lpep_pickup_datetime='2019-10-12 08:32:00', lpep_dropoff_datetime='2019-10-12 08:56:00', PULocationID=197, DOLocationID=64, passenger_count=nan, trip_distance=10.93, tip_amount=0.0)\n",
      "Row(lpep_pickup_datetime='2019-10-12 21:59:00', lpep_dropoff_datetime='2019-10-12 22:42:00', PULocationID=76, DOLocationID=45, passenger_count=nan, trip_distance=9.62, tip_amount=0.0)\n",
      "Row(lpep_pickup_datetime='2019-10-13 14:47:00', lpep_dropoff_datetime='2019-10-13 15:08:00', PULocationID=129, DOLocationID=74, passenger_count=nan, trip_distance=6.6, tip_amount=0.0)\n",
      "Row(lpep_pickup_datetime='2019-10-14 11:05:00', lpep_dropoff_datetime='2019-10-14 11:24:00', PULocationID=244, DOLocationID=220, passenger_count=nan, trip_distance=3.49, tip_amount=0.0)\n",
      "Row(lpep_pickup_datetime='2019-10-15 07:23:00', lpep_dropoff_datetime='2019-10-15 08:00:00', PULocationID=89, DOLocationID=79, passenger_count=nan, trip_distance=11.2, tip_amount=0.0)\n",
      "Row(lpep_pickup_datetime='2019-10-15 13:45:00', lpep_dropoff_datetime='2019-10-15 13:54:00', PULocationID=263, DOLocationID=236, passenger_count=nan, trip_distance=1.27, tip_amount=0.0)\n",
      "Row(lpep_pickup_datetime='2019-10-15 22:07:00', lpep_dropoff_datetime='2019-10-15 22:49:00', PULocationID=69, DOLocationID=77, passenger_count=nan, trip_distance=18.81, tip_amount=0.0)\n",
      "Row(lpep_pickup_datetime='2019-10-16 10:27:00', lpep_dropoff_datetime='2019-10-16 10:41:00', PULocationID=76, DOLocationID=76, passenger_count=nan, trip_distance=2.28, tip_amount=0.0)\n",
      "Row(lpep_pickup_datetime='2019-10-16 16:01:00', lpep_dropoff_datetime='2019-10-16 16:20:00', PULocationID=63, DOLocationID=35, passenger_count=nan, trip_distance=2.84, tip_amount=0.0)\n",
      "Row(lpep_pickup_datetime='2019-10-17 09:01:00', lpep_dropoff_datetime='2019-10-17 09:38:00', PULocationID=98, DOLocationID=61, passenger_count=nan, trip_distance=10.22, tip_amount=0.0)\n",
      "Row(lpep_pickup_datetime='2019-10-17 15:17:00', lpep_dropoff_datetime='2019-10-17 15:33:00', PULocationID=14, DOLocationID=108, passenger_count=nan, trip_distance=5.09, tip_amount=0.0)\n",
      "Row(lpep_pickup_datetime='2019-10-18 07:00:00', lpep_dropoff_datetime='2019-10-18 07:00:00', PULocationID=72, DOLocationID=72, passenger_count=nan, trip_distance=0.0, tip_amount=0.0)\n",
      "Row(lpep_pickup_datetime='2019-10-18 15:37:00', lpep_dropoff_datetime='2019-10-18 16:26:00', PULocationID=228, DOLocationID=177, passenger_count=nan, trip_distance=5.96, tip_amount=0.0)\n",
      "Row(lpep_pickup_datetime='2019-10-19 07:55:00', lpep_dropoff_datetime='2019-10-19 08:37:00', PULocationID=29, DOLocationID=236, passenger_count=nan, trip_distance=22.6, tip_amount=0.0)\n",
      "Row(lpep_pickup_datetime='2019-10-19 16:12:00', lpep_dropoff_datetime='2019-10-19 16:49:00', PULocationID=55, DOLocationID=188, passenger_count=nan, trip_distance=7.82, tip_amount=0.0)\n",
      "Row(lpep_pickup_datetime='2019-10-20 11:21:00', lpep_dropoff_datetime='2019-10-20 12:22:00', PULocationID=29, DOLocationID=68, passenger_count=nan, trip_distance=18.09, tip_amount=0.0)\n",
      "Row(lpep_pickup_datetime='2019-10-20 18:01:00', lpep_dropoff_datetime='2019-10-20 18:49:00', PULocationID=41, DOLocationID=65, passenger_count=nan, trip_distance=13.61, tip_amount=0.0)\n",
      "Row(lpep_pickup_datetime='2019-10-21 10:09:00', lpep_dropoff_datetime='2019-10-21 10:37:00', PULocationID=61, DOLocationID=76, passenger_count=nan, trip_distance=5.59, tip_amount=0.0)\n",
      "Row(lpep_pickup_datetime='2019-10-21 14:47:00', lpep_dropoff_datetime='2019-10-21 15:02:00', PULocationID=174, DOLocationID=20, passenger_count=nan, trip_distance=2.84, tip_amount=0.0)\n",
      "Row(lpep_pickup_datetime='2019-10-22 06:40:00', lpep_dropoff_datetime='2019-10-22 07:06:00', PULocationID=69, DOLocationID=200, passenger_count=nan, trip_distance=6.48, tip_amount=0.0)\n",
      "Row(lpep_pickup_datetime='2019-10-22 10:37:00', lpep_dropoff_datetime='2019-10-22 10:50:00', PULocationID=174, DOLocationID=47, passenger_count=nan, trip_distance=1.87, tip_amount=0.0)\n",
      "Row(lpep_pickup_datetime='2019-10-22 15:42:00', lpep_dropoff_datetime='2019-10-22 16:02:00', PULocationID=97, DOLocationID=62, passenger_count=nan, trip_distance=2.55, tip_amount=0.0)\n",
      "Row(lpep_pickup_datetime='2019-10-23 06:29:00', lpep_dropoff_datetime='2019-10-23 07:25:00', PULocationID=213, DOLocationID=88, passenger_count=nan, trip_distance=15.39, tip_amount=0.0)\n",
      "Row(lpep_pickup_datetime='2019-10-23 11:04:00', lpep_dropoff_datetime='2019-10-23 11:43:00', PULocationID=76, DOLocationID=74, passenger_count=nan, trip_distance=19.65, tip_amount=0.0)\n",
      "Row(lpep_pickup_datetime='2019-10-23 16:17:00', lpep_dropoff_datetime='2019-10-23 17:03:00', PULocationID=35, DOLocationID=25, passenger_count=nan, trip_distance=5.78, tip_amount=0.0)\n",
      "Row(lpep_pickup_datetime='2019-10-24 06:02:56', lpep_dropoff_datetime='2019-10-24 06:21:08', PULocationID=7, DOLocationID=197, passenger_count=nan, trip_distance=9.13, tip_amount=0.0)\n",
      "Row(lpep_pickup_datetime='2019-10-24 11:52:00', lpep_dropoff_datetime='2019-10-24 12:17:00', PULocationID=171, DOLocationID=168, passenger_count=nan, trip_distance=10.17, tip_amount=0.0)\n",
      "Row(lpep_pickup_datetime='2019-10-24 16:56:00', lpep_dropoff_datetime='2019-10-24 17:07:00', PULocationID=87, DOLocationID=232, passenger_count=nan, trip_distance=1.37, tip_amount=0.0)\n",
      "Row(lpep_pickup_datetime='2019-10-25 07:29:00', lpep_dropoff_datetime='2019-10-25 07:56:00', PULocationID=17, DOLocationID=76, passenger_count=nan, trip_distance=4.53, tip_amount=0.0)\n",
      "Row(lpep_pickup_datetime='2019-10-25 12:12:00', lpep_dropoff_datetime='2019-10-25 12:31:00', PULocationID=247, DOLocationID=213, passenger_count=nan, trip_distance=6.27, tip_amount=0.0)\n",
      "Row(lpep_pickup_datetime='2019-10-25 17:46:00', lpep_dropoff_datetime='2019-10-25 18:10:00', PULocationID=82, DOLocationID=134, passenger_count=nan, trip_distance=4.06, tip_amount=0.0)\n",
      "Row(lpep_pickup_datetime='2019-10-26 11:51:00', lpep_dropoff_datetime='2019-10-26 11:59:00', PULocationID=41, DOLocationID=24, passenger_count=nan, trip_distance=1.33, tip_amount=0.0)\n",
      "Row(lpep_pickup_datetime='2019-10-26 19:39:00', lpep_dropoff_datetime='2019-10-26 20:19:00', PULocationID=223, DOLocationID=142, passenger_count=nan, trip_distance=6.97, tip_amount=0.0)\n",
      "Row(lpep_pickup_datetime='2019-10-27 13:13:00', lpep_dropoff_datetime='2019-10-27 13:21:00', PULocationID=61, DOLocationID=225, passenger_count=nan, trip_distance=1.41, tip_amount=0.0)\n",
      "Row(lpep_pickup_datetime='2019-10-28 06:47:00', lpep_dropoff_datetime='2019-10-28 07:10:00', PULocationID=258, DOLocationID=192, passenger_count=nan, trip_distance=7.75, tip_amount=0.0)\n",
      "Row(lpep_pickup_datetime='2019-10-28 11:00:00', lpep_dropoff_datetime='2019-10-28 11:30:00', PULocationID=218, DOLocationID=226, passenger_count=nan, trip_distance=13.67, tip_amount=0.0)\n",
      "Row(lpep_pickup_datetime='2019-10-28 15:30:00', lpep_dropoff_datetime='2019-10-28 16:33:00', PULocationID=14, DOLocationID=37, passenger_count=nan, trip_distance=12.98, tip_amount=0.0)\n"
     ]
    },
    {
     "name": "stdout",
     "output_type": "stream",
     "text": [
      "Row(lpep_pickup_datetime='2019-10-29 07:32:00', lpep_dropoff_datetime='2019-10-29 08:20:00', PULocationID=210, DOLocationID=95, passenger_count=nan, trip_distance=15.35, tip_amount=0.0)\n",
      "Row(lpep_pickup_datetime='2019-10-29 12:02:00', lpep_dropoff_datetime='2019-10-29 12:23:00', PULocationID=48, DOLocationID=244, passenger_count=nan, trip_distance=7.63, tip_amount=0.0)\n",
      "Row(lpep_pickup_datetime='2019-10-29 16:02:00', lpep_dropoff_datetime='2019-10-29 16:38:00', PULocationID=218, DOLocationID=168, passenger_count=nan, trip_distance=15.23, tip_amount=0.0)\n",
      "Row(lpep_pickup_datetime='2019-10-30 07:50:00', lpep_dropoff_datetime='2019-10-30 08:08:00', PULocationID=198, DOLocationID=82, passenger_count=nan, trip_distance=3.14, tip_amount=0.0)\n",
      "Row(lpep_pickup_datetime='2019-10-30 13:36:00', lpep_dropoff_datetime='2019-10-30 14:13:00', PULocationID=225, DOLocationID=39, passenger_count=nan, trip_distance=6.72, tip_amount=0.0)\n",
      "Row(lpep_pickup_datetime='2019-10-30 18:19:00', lpep_dropoff_datetime='2019-10-30 18:54:00', PULocationID=68, DOLocationID=262, passenger_count=nan, trip_distance=4.27, tip_amount=0.0)\n",
      "Row(lpep_pickup_datetime='2019-10-31 09:18:00', lpep_dropoff_datetime='2019-10-31 09:27:00', PULocationID=7, DOLocationID=7, passenger_count=nan, trip_distance=1.44, tip_amount=0.0)\n",
      "took 71.89 seconds\n"
     ]
    }
   ],
   "source": [
    "t0 = time.time()\n",
    "\n",
    "topic_name = 'green-trips'\n",
    "\n",
    "for row in df_green.itertuples(index=False):\n",
    "    row_dict = {col: getattr(row, col) for col in row._fields}\n",
    "    producer.send(topic_name, value=row_dict)\n",
    "#     print(row_dict)\n",
    "    # break\n",
    "\n",
    "producer.flush()\n",
    "\n",
    "t1 = time.time()\n",
    "print(f'took {(t1 - t0):.2f} seconds')"
   ]
  },
  {
   "cell_type": "code",
   "execution_count": 30,
   "id": "0291162a",
   "metadata": {},
   "outputs": [
    {
     "name": "stdout",
     "output_type": "stream",
     "text": [
      "Row(lpep_pickup_datetime='2019-10-31 13:05:00', lpep_dropoff_datetime='2019-10-31 13:29:00', PULocationID=159, DOLocationID=242, passenger_count=nan, trip_distance=4.11, tip_amount=0.0)\n"
     ]
    }
   ],
   "source": [
    "import pyspark\n",
    "from pyspark.sql import SparkSession\n",
    "\n",
    "pyspark_version = pyspark.__version__\n",
    "kafka_jar_package = f\"org.apache.spark:spark-sql-kafka-0-10_2.12:{pyspark_version}\"\n",
    "\n",
    "spark = SparkSession \\\n",
    "    .builder \\\n",
    "    .master(\"local[*]\") \\\n",
    "    .appName(\"GreenTripsConsumer\") \\\n",
    "    .config(\"spark.jars.packages\", kafka_jar_package) \\\n",
    "    .getOrCreate()"
   ]
  },
  {
   "cell_type": "code",
   "execution_count": 31,
   "id": "61c16507",
   "metadata": {},
   "outputs": [],
   "source": [
    "green_stream = spark \\\n",
    "    .readStream \\\n",
    "    .format(\"kafka\") \\\n",
    "    .option(\"kafka.bootstrap.servers\", \"localhost:9092\") \\\n",
    "    .option(\"subscribe\", \"green-trips\") \\\n",
    "    .option(\"startingOffsets\", \"earliest\") \\\n",
    "    .load()"
   ]
  },
  {
   "cell_type": "code",
   "execution_count": 32,
   "id": "5e1f6fb3",
   "metadata": {},
   "outputs": [
    {
     "name": "stderr",
     "output_type": "stream",
     "text": [
      "24/03/25 23:12:08 WARN ResolveWriteToStream: Temporary checkpoint location created which is deleted normally when the query didn't fail: /tmp/temporary-b7928375-103c-4681-a311-65ba70afedf4. If it's required to delete it under any circumstances, please set spark.sql.streaming.forceDeleteTempCheckpointLocation to true. Important to know deleting temp checkpoint folder is best effort.\n",
      "24/03/25 23:12:08 WARN ResolveWriteToStream: spark.sql.adaptive.enabled is not supported in streaming DataFrames/Datasets and will be disabled.\n",
      "24/03/25 23:12:08 WARN AdminClientConfig: These configurations '[key.deserializer, value.deserializer, enable.auto.commit, max.poll.records, auto.offset.reset]' were supplied but are not used yet.\n"
     ]
    },
    {
     "name": "stdout",
     "output_type": "stream",
     "text": [
      "Row(key=None, value=bytearray(b'{\"number\": 9}'), topic='green-trips', partition=0, offset=0, timestamp=datetime.datetime(2024, 3, 25, 19, 27, 13, 171000), timestampType=0)\n"
     ]
    }
   ],
   "source": [
    "def peek(mini_batch, batch_id):\n",
    "    first_row = mini_batch.take(1)\n",
    "\n",
    "    if first_row:\n",
    "        print(first_row[0])\n",
    "\n",
    "query = green_stream.writeStream.foreachBatch(peek).start()"
   ]
  },
  {
   "cell_type": "code",
   "execution_count": 33,
   "id": "0cb42882",
   "metadata": {},
   "outputs": [],
   "source": [
    "query.stop()"
   ]
  },
  {
   "cell_type": "code",
   "execution_count": 34,
   "id": "0e2c4d9c",
   "metadata": {},
   "outputs": [],
   "source": [
    "from pyspark.sql import types\n",
    "\n",
    "schema = types.StructType() \\\n",
    "    .add(\"lpep_pickup_datetime\", types.StringType()) \\\n",
    "    .add(\"lpep_dropoff_datetime\", types.StringType()) \\\n",
    "    .add(\"PULocationID\", types.IntegerType()) \\\n",
    "    .add(\"DOLocationID\", types.IntegerType()) \\\n",
    "    .add(\"passenger_count\", types.DoubleType()) \\\n",
    "    .add(\"trip_distance\", types.DoubleType()) \\\n",
    "    .add(\"tip_amount\", types.DoubleType())"
   ]
  },
  {
   "cell_type": "code",
   "execution_count": 35,
   "id": "6ec82704",
   "metadata": {},
   "outputs": [
    {
     "data": {
      "text/plain": [
       "StructType([StructField('lpep_pickup_datetime', StringType(), True), StructField('lpep_dropoff_datetime', StringType(), True), StructField('PULocationID', IntegerType(), True), StructField('DOLocationID', IntegerType(), True), StructField('passenger_count', DoubleType(), True), StructField('trip_distance', DoubleType(), True), StructField('tip_amount', DoubleType(), True)])"
      ]
     },
     "execution_count": 35,
     "metadata": {},
     "output_type": "execute_result"
    }
   ],
   "source": [
    "schema"
   ]
  },
  {
   "cell_type": "code",
   "execution_count": 36,
   "id": "fc803603",
   "metadata": {},
   "outputs": [],
   "source": [
    "from pyspark.sql import functions as F\n",
    "\n",
    "green_stream = green_stream \\\n",
    "  .select(F.from_json(F.col(\"value\").cast('STRING'), schema).alias(\"data\")) \\\n",
    "  .select(\"data.*\")"
   ]
  },
  {
   "cell_type": "code",
   "execution_count": 37,
   "id": "b7101b40",
   "metadata": {},
   "outputs": [
    {
     "data": {
      "text/plain": [
       "DataFrame[lpep_pickup_datetime: string, lpep_dropoff_datetime: string, PULocationID: int, DOLocationID: int, passenger_count: double, trip_distance: double, tip_amount: double]"
      ]
     },
     "execution_count": 37,
     "metadata": {},
     "output_type": "execute_result"
    }
   ],
   "source": [
    "green_stream"
   ]
  },
  {
   "cell_type": "code",
   "execution_count": 38,
   "id": "c0f152f8",
   "metadata": {},
   "outputs": [
    {
     "name": "stderr",
     "output_type": "stream",
     "text": [
      "24/03/25 23:12:32 WARN ResolveWriteToStream: Temporary checkpoint location created which is deleted normally when the query didn't fail: /tmp/temporary-8afdd339-7a0a-4489-8337-8ca5b95692f8. If it's required to delete it under any circumstances, please set spark.sql.streaming.forceDeleteTempCheckpointLocation to true. Important to know deleting temp checkpoint folder is best effort.\n",
      "24/03/25 23:12:32 WARN ResolveWriteToStream: spark.sql.adaptive.enabled is not supported in streaming DataFrames/Datasets and will be disabled.\n"
     ]
    },
    {
     "data": {
      "text/plain": [
       "<pyspark.sql.streaming.query.StreamingQuery at 0x7fe904e7ef50>"
      ]
     },
     "execution_count": 38,
     "metadata": {},
     "output_type": "execute_result"
    },
    {
     "name": "stderr",
     "output_type": "stream",
     "text": [
      "24/03/25 23:12:32 WARN AdminClientConfig: These configurations '[key.deserializer, value.deserializer, enable.auto.commit, max.poll.records, auto.offset.reset]' were supplied but are not used yet.\n"
     ]
    },
    {
     "name": "stdout",
     "output_type": "stream",
     "text": [
      "Row(lpep_pickup_datetime=None, lpep_dropoff_datetime=None, PULocationID=None, DOLocationID=None, passenger_count=None, trip_distance=None, tip_amount=None)\n"
     ]
    }
   ],
   "source": [
    "green_stream.writeStream.foreachBatch(peek).start()"
   ]
  },
  {
   "cell_type": "code",
   "execution_count": 39,
   "id": "c35e5bbc",
   "metadata": {},
   "outputs": [],
   "source": [
    "green_stream_with_timestamp = green_stream.withColumn(\"timestamp\", current_timestamp())\n"
   ]
  },
  {
   "cell_type": "code",
   "execution_count": 40,
   "id": "996851d5",
   "metadata": {},
   "outputs": [],
   "source": [
    "popular_destinations = green_stream_with_timestamp \\\n",
    "    .groupBy(window(col(\"timestamp\"), \"5 minutes\"), col(\"DOLocationID\")) \\\n",
    "    .count() \\\n",
    "    .orderBy(\"count\", ascending=False)\n"
   ]
  },
  {
   "cell_type": "code",
   "execution_count": null,
   "id": "a3bff77c",
   "metadata": {},
   "outputs": [
    {
     "name": "stderr",
     "output_type": "stream",
     "text": [
      "24/03/25 23:14:00 WARN ResolveWriteToStream: Temporary checkpoint location created which is deleted normally when the query didn't fail: /tmp/temporary-46f071e9-9073-424b-be79-c1a0584a4310. If it's required to delete it under any circumstances, please set spark.sql.streaming.forceDeleteTempCheckpointLocation to true. Important to know deleting temp checkpoint folder is best effort.\n",
      "24/03/25 23:14:00 WARN ResolveWriteToStream: spark.sql.adaptive.enabled is not supported in streaming DataFrames/Datasets and will be disabled.\n",
      "24/03/25 23:14:00 WARN AdminClientConfig: These configurations '[key.deserializer, value.deserializer, enable.auto.commit, max.poll.records, auto.offset.reset]' were supplied but are not used yet.\n",
      "                                                                                \r"
     ]
    },
    {
     "name": "stdout",
     "output_type": "stream",
     "text": [
      "-------------------------------------------\n",
      "Batch: 0\n",
      "-------------------------------------------\n",
      "+------------------------------------------+------------+------+\n",
      "|window                                    |DOLocationID|count |\n",
      "+------------------------------------------+------------+------+\n",
      "|{2024-03-25 23:10:00, 2024-03-25 23:15:00}|NULL        |952772|\n",
      "|{2024-03-25 23:10:00, 2024-03-25 23:15:00}|74          |53223 |\n",
      "|{2024-03-25 23:10:00, 2024-03-25 23:15:00}|42          |47826 |\n",
      "|{2024-03-25 23:10:00, 2024-03-25 23:15:00}|41          |42183 |\n",
      "|{2024-03-25 23:10:00, 2024-03-25 23:15:00}|75          |38520 |\n",
      "|{2024-03-25 23:10:00, 2024-03-25 23:15:00}|129         |35790 |\n",
      "|{2024-03-25 23:10:00, 2024-03-25 23:15:00}|7           |34599 |\n",
      "|{2024-03-25 23:10:00, 2024-03-25 23:15:00}|166         |32535 |\n",
      "|{2024-03-25 23:10:00, 2024-03-25 23:15:00}|236         |23739 |\n",
      "|{2024-03-25 23:10:00, 2024-03-25 23:15:00}|223         |22626 |\n",
      "|{2024-03-25 23:10:00, 2024-03-25 23:15:00}|238         |21954 |\n",
      "|{2024-03-25 23:10:00, 2024-03-25 23:15:00}|82          |21876 |\n",
      "|{2024-03-25 23:10:00, 2024-03-25 23:15:00}|181         |21846 |\n",
      "|{2024-03-25 23:10:00, 2024-03-25 23:15:00}|95          |21732 |\n",
      "|{2024-03-25 23:10:00, 2024-03-25 23:15:00}|244         |20199 |\n",
      "|{2024-03-25 23:10:00, 2024-03-25 23:15:00}|61          |19818 |\n",
      "|{2024-03-25 23:10:00, 2024-03-25 23:15:00}|116         |19017 |\n",
      "|{2024-03-25 23:10:00, 2024-03-25 23:15:00}|138         |18432 |\n",
      "|{2024-03-25 23:10:00, 2024-03-25 23:15:00}|97          |18150 |\n",
      "|{2024-03-25 23:10:00, 2024-03-25 23:15:00}|49          |15663 |\n",
      "+------------------------------------------+------------+------+\n",
      "only showing top 20 rows\n",
      "\n"
     ]
    }
   ],
   "source": [
    "query = popular_destinations \\\n",
    "    .writeStream \\\n",
    "    .outputMode(\"complete\") \\\n",
    "    .format(\"console\") \\\n",
    "    .option(\"truncate\", \"false\") \\\n",
    "    .start()\n",
    "\n",
    "query.awaitTermination()"
   ]
  },
  {
   "cell_type": "code",
   "execution_count": null,
   "id": "1bb0e7ed",
   "metadata": {},
   "outputs": [],
   "source": []
  }
 ],
 "metadata": {
  "kernelspec": {
   "display_name": "Python 3 (ipykernel)",
   "language": "python",
   "name": "python3"
  },
  "language_info": {
   "codemirror_mode": {
    "name": "ipython",
    "version": 3
   },
   "file_extension": ".py",
   "mimetype": "text/x-python",
   "name": "python",
   "nbconvert_exporter": "python",
   "pygments_lexer": "ipython3",
   "version": "3.11.5"
  }
 },
 "nbformat": 4,
 "nbformat_minor": 5
}
